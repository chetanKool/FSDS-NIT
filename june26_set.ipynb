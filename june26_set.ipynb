{
 "cells": [
  {
   "cell_type": "markdown",
   "id": "60854195-9222-49cc-a03f-2747920876c4",
   "metadata": {},
   "source": [
    "**********SET******"
   ]
  },
  {
   "cell_type": "code",
   "execution_count": 1,
   "id": "e1a83087-1ef3-40e6-97b6-1d88cb47deaa",
   "metadata": {},
   "outputs": [
    {
     "ename": "SyntaxError",
     "evalue": "invalid syntax (3641702023.py, line 1)",
     "output_type": "error",
     "traceback": [
      "  \u001b[36mCell\u001b[39m\u001b[36m \u001b[39m\u001b[32mIn[1]\u001b[39m\u001b[32m, line 1\u001b[39m\n\u001b[31m    \u001b[39m\u001b[31ms1 = new set()\u001b[39m\n             ^\n\u001b[31mSyntaxError\u001b[39m\u001b[31m:\u001b[39m invalid syntax\n"
     ]
    }
   ],
   "source": [
    "s1 = new set()"
   ]
  },
  {
   "cell_type": "code",
   "execution_count": null,
   "id": "4d3edf66-93fb-42ab-8cfa-e8409be63086",
   "metadata": {},
   "outputs": [],
   "source": [
    "s1= set {}"
   ]
  },
  {
   "cell_type": "code",
   "execution_count": null,
   "id": "a07c5826-1bfe-40b3-b756-12c04d97d3f2",
   "metadata": {},
   "outputs": [],
   "source": [
    "s= {}\n",
    "s"
   ]
  },
  {
   "cell_type": "code",
   "execution_count": null,
   "id": "712d1850-159a-4f66-a97d-f34bc92af6fa",
   "metadata": {},
   "outputs": [],
   "source": [
    "type(s)"
   ]
  },
  {
   "cell_type": "code",
   "execution_count": null,
   "id": "9f46897c-64e1-42d4-8842-59bc50f0ef48",
   "metadata": {},
   "outputs": [],
   "source": [
    "s2 = set()\n",
    "s2\n",
    "type(s2)"
   ]
  },
  {
   "cell_type": "code",
   "execution_count": null,
   "id": "252e584f-9c02-4218-a837-e670649ed6b0",
   "metadata": {},
   "outputs": [],
   "source": [
    "s2.add(10)\n",
    "s2"
   ]
  },
  {
   "cell_type": "code",
   "execution_count": null,
   "id": "96959bf4-03e0-49e5-9303-a6fbb82a0939",
   "metadata": {},
   "outputs": [],
   "source": [
    "s2.add(30,10)\n",
    "s2"
   ]
  },
  {
   "cell_type": "code",
   "execution_count": null,
   "id": "12fec7f4-7224-4969-bed9-2a36c1c3179c",
   "metadata": {},
   "outputs": [],
   "source": [
    "s2.add(30,40)\n",
    "s2"
   ]
  },
  {
   "cell_type": "code",
   "execution_count": null,
   "id": "0f98246a-c746-4a9e-9560-b3ebe3bd9a6d",
   "metadata": {},
   "outputs": [],
   "source": [
    "s2.add(50)\n",
    "s2"
   ]
  },
  {
   "cell_type": "code",
   "execution_count": null,
   "id": "de4dacbb-e104-4c15-9c0f-3d9f70d874c2",
   "metadata": {},
   "outputs": [],
   "source": [
    "s2.add(0.5)\n",
    "s2"
   ]
  },
  {
   "cell_type": "code",
   "execution_count": null,
   "id": "0e410e40-1178-48f8-8fb1-be3c059e0dd8",
   "metadata": {},
   "outputs": [],
   "source": [
    "s2.add(96)\n",
    "s2.add(97)\n",
    "s2.add(98)\n",
    "s2"
   ]
  },
  {
   "cell_type": "code",
   "execution_count": null,
   "id": "2c1eb36a-b493-4e6e-8be0-3e2729dd690b",
   "metadata": {},
   "outputs": [],
   "source": [
    "s2.add(0.50)\n",
    "s2"
   ]
  },
  {
   "cell_type": "code",
   "execution_count": null,
   "id": "28c61534-e9b2-41b6-894a-d340140249ed",
   "metadata": {},
   "outputs": [],
   "source": [
    "s2.add(98)\n",
    "s2"
   ]
  },
  {
   "cell_type": "code",
   "execution_count": null,
   "id": "b947cd93-1c9b-4b8a-bf01-537697a913c2",
   "metadata": {},
   "outputs": [],
   "source": [
    "s2[0]"
   ]
  },
  {
   "cell_type": "code",
   "execution_count": null,
   "id": "cbe16b49-fd59-419a-97d1-585398b567f6",
   "metadata": {},
   "outputs": [],
   "source": [
    "s2[]"
   ]
  },
  {
   "cell_type": "code",
   "execution_count": null,
   "id": "2851a42a-2981-4be7-b09c-9563bec33f0a",
   "metadata": {},
   "outputs": [],
   "source": [
    "s2[:]"
   ]
  },
  {
   "cell_type": "code",
   "execution_count": null,
   "id": "673667ec-7666-454f-b262-a33c644e93f1",
   "metadata": {},
   "outputs": [],
   "source": [
    "s2.add(None)\n",
    "s2"
   ]
  },
  {
   "cell_type": "code",
   "execution_count": null,
   "id": "cfd71731-2989-4a6e-b8f4-a58a306cced1",
   "metadata": {},
   "outputs": [],
   "source": [
    "s2.add()\n",
    "s2"
   ]
  },
  {
   "cell_type": "code",
   "execution_count": null,
   "id": "d045b337-0414-4fe4-8f57-c2a2cc8a2177",
   "metadata": {},
   "outputs": [],
   "source": [
    "s2.add('ck')\n",
    "s2"
   ]
  },
  {
   "cell_type": "code",
   "execution_count": null,
   "id": "684fd16b-126a-4776-9564-7b2bd896c613",
   "metadata": {},
   "outputs": [],
   "source": [
    "s3 = set()"
   ]
  },
  {
   "cell_type": "code",
   "execution_count": null,
   "id": "fd728681-f247-4695-93f3-aaa28e845d2f",
   "metadata": {},
   "outputs": [],
   "source": [
    "s3.add(1)\n",
    "s3.add(1.5)\n",
    "s3.add('ck')\n",
    "s3.add(None)\n",
    "s3.add(True)\n",
    "s3"
   ]
  },
  {
   "cell_type": "code",
   "execution_count": null,
   "id": "dd93aa53-4c88-433e-83f9-227e3d4f58f2",
   "metadata": {},
   "outputs": [],
   "source": [
    "s3.add(False)\n",
    "s3"
   ]
  },
  {
   "cell_type": "code",
   "execution_count": null,
   "id": "e0f942ad-75c1-4310-9534-c42061a0a3cc",
   "metadata": {},
   "outputs": [],
   "source": [
    "s3"
   ]
  },
  {
   "cell_type": "code",
   "execution_count": null,
   "id": "a690e735-f20e-472c-a69c-2dbfcc218b82",
   "metadata": {},
   "outputs": [],
   "source": [
    "s3.add(True)\n",
    "s3"
   ]
  },
  {
   "cell_type": "code",
   "execution_count": null,
   "id": "9bf446be-85c8-43c1-8136-2006ec5c4116",
   "metadata": {},
   "outputs": [],
   "source": []
  },
  {
   "cell_type": "code",
   "execution_count": null,
   "id": "4d8d0f8b-6ceb-486d-b30b-5e578b9e82d3",
   "metadata": {},
   "outputs": [],
   "source": [
    "s3.discard(1)\n"
   ]
  },
  {
   "cell_type": "code",
   "execution_count": null,
   "id": "15689c8b-ffb4-40d9-ae9d-d63447e30f73",
   "metadata": {},
   "outputs": [],
   "source": [
    "s3.add(True)\n",
    "s3"
   ]
  },
  {
   "cell_type": "code",
   "execution_count": null,
   "id": "e51a150e-62cc-4938-9f95-20edd630caf5",
   "metadata": {
    "scrolled": true
   },
   "outputs": [],
   "source": [
    "s4.add(True)\n",
    "s4.add(False)\n",
    "s4"
   ]
  },
  {
   "cell_type": "code",
   "execution_count": null,
   "id": "f862fd69-bd41-46a6-b960-982af4eb7965",
   "metadata": {},
   "outputs": [],
   "source": [
    "s4 = set({0,1,2})\n",
    "s4"
   ]
  },
  {
   "cell_type": "code",
   "execution_count": null,
   "id": "2da8a273-f636-426f-8f27-792659645bc0",
   "metadata": {},
   "outputs": [],
   "source": [
    "id(s4)== id(s2)"
   ]
  },
  {
   "cell_type": "code",
   "execution_count": null,
   "id": "850ca519-1182-4f52-a2cd-42253cbb0001",
   "metadata": {},
   "outputs": [],
   "source": [
    "id(s4)"
   ]
  },
  {
   "cell_type": "markdown",
   "id": "2c541010-8c62-4058-8930-086874fc9265",
   "metadata": {},
   "source": [
    "Q)set is unordered type of collection or ordered?\n",
    "Ans-if you add similar datatypes - then only ordered\n",
    "otherwise its unordered"
   ]
  },
  {
   "cell_type": "code",
   "execution_count": null,
   "id": "18229429-1eaf-44f4-94e6-506ae4f15361",
   "metadata": {},
   "outputs": [],
   "source": [
    "s1"
   ]
  },
  {
   "cell_type": "code",
   "execution_count": null,
   "id": "bbf13ba7-3439-4fb2-94de-ed8630de48c2",
   "metadata": {},
   "outputs": [],
   "source": [
    "s5 = s4.copy()\n",
    "s5"
   ]
  },
  {
   "cell_type": "code",
   "execution_count": null,
   "id": "760097ca-970b-4484-b7a7-a3e944d85feb",
   "metadata": {},
   "outputs": [],
   "source": [
    "s4 == s5"
   ]
  },
  {
   "cell_type": "markdown",
   "id": "d9e880f2-f30e-4014-9e1b-740238494dab",
   "metadata": {},
   "source": [
    "Indexing is not allowed in set\n",
    "Slicing is not allowed in set"
   ]
  },
  {
   "cell_type": "code",
   "execution_count": null,
   "id": "89047cf7-783b-4633-b7b7-4886ea69f4bc",
   "metadata": {},
   "outputs": [],
   "source": [
    "s2"
   ]
  },
  {
   "cell_type": "code",
   "execution_count": null,
   "id": "7f63c51a-b7ab-4537-a267-d62378bff31c",
   "metadata": {},
   "outputs": [],
   "source": [
    "s2.pop()"
   ]
  },
  {
   "cell_type": "code",
   "execution_count": null,
   "id": "238a4864-9138-4356-a5c5-793a5f2bbf3b",
   "metadata": {},
   "outputs": [],
   "source": [
    "s2"
   ]
  },
  {
   "cell_type": "code",
   "execution_count": null,
   "id": "16399deb-cc20-4f1d-9ab2-255e7a34e859",
   "metadata": {},
   "outputs": [],
   "source": [
    "s6 = set({10,20,30,40,50})\n",
    "s6.pop()"
   ]
  },
  {
   "cell_type": "code",
   "execution_count": null,
   "id": "20476fda-a294-44a3-a818-e1ac45e94e09",
   "metadata": {},
   "outputs": [],
   "source": [
    "s6"
   ]
  },
  {
   "cell_type": "code",
   "execution_count": null,
   "id": "1f4cda95-b104-4314-9b83-4a4d6bdee778",
   "metadata": {},
   "outputs": [],
   "source": [
    "s6.pop()"
   ]
  },
  {
   "cell_type": "markdown",
   "id": "69728e47-1360-4209-b2ce-40a038851747",
   "metadata": {},
   "source": [
    "VVVVIMPPP -----> pop in set - Remove and return an arbitrary set element"
   ]
  },
  {
   "cell_type": "code",
   "execution_count": null,
   "id": "7ec0cdbb-a297-4c23-b12e-6700d65b0024",
   "metadata": {},
   "outputs": [],
   "source": [
    "s7 = set({})\n",
    "s7"
   ]
  },
  {
   "cell_type": "code",
   "execution_count": null,
   "id": "0bb96f8f-9047-47a0-9aa8-8bb2b95b48ca",
   "metadata": {},
   "outputs": [],
   "source": [
    "s7.pop()"
   ]
  },
  {
   "cell_type": "code",
   "execution_count": null,
   "id": "d3e8afba-75e2-4154-9fda-b46c8f0f5f12",
   "metadata": {},
   "outputs": [],
   "source": [
    "s4"
   ]
  },
  {
   "cell_type": "code",
   "execution_count": null,
   "id": "419f875b-5504-4db0-be76-3494324fe0fa",
   "metadata": {},
   "outputs": [],
   "source": [
    "s4.remove(2)\n",
    "s4()"
   ]
  },
  {
   "cell_type": "code",
   "execution_count": null,
   "id": "7940d002-759b-4e9b-a1b9-2ca45090d31d",
   "metadata": {},
   "outputs": [],
   "source": [
    "s6"
   ]
  },
  {
   "cell_type": "code",
   "execution_count": null,
   "id": "646ab668-02f3-4350-a0be-b501149ed529",
   "metadata": {},
   "outputs": [],
   "source": [
    "s6.remove(30)\n",
    "s6"
   ]
  },
  {
   "cell_type": "code",
   "execution_count": null,
   "id": "df7e1df7-3706-4d7b-8d2e-2905d7a9259f",
   "metadata": {},
   "outputs": [],
   "source": [
    "s6.remove(10)\n",
    "s6"
   ]
  },
  {
   "cell_type": "code",
   "execution_count": null,
   "id": "6d67f2d5-e005-4be4-af89-36d3c00624f6",
   "metadata": {},
   "outputs": [],
   "source": [
    "s6.remove(-78)\n",
    "s6"
   ]
  },
  {
   "cell_type": "code",
   "execution_count": null,
   "id": "968ab2d7-adfd-4530-aa13-339844379746",
   "metadata": {},
   "outputs": [],
   "source": [
    "s8=set({89,90,91,92,93})\n",
    "s8"
   ]
  },
  {
   "cell_type": "code",
   "execution_count": null,
   "id": "370aca7c-d92c-4451-b133-0eb3590bc3c3",
   "metadata": {},
   "outputs": [],
   "source": [
    "s8.add(True)\n",
    "s8"
   ]
  },
  {
   "cell_type": "code",
   "execution_count": null,
   "id": "75a7dfde-a622-4298-af13-b6f555613628",
   "metadata": {},
   "outputs": [],
   "source": [
    "s8"
   ]
  },
  {
   "cell_type": "code",
   "execution_count": null,
   "id": "ea330519-a3df-4a64-b3db-dd7f9bbc7454",
   "metadata": {},
   "outputs": [],
   "source": [
    "s8.remove(89)\n",
    "s8"
   ]
  },
  {
   "cell_type": "code",
   "execution_count": null,
   "id": "bdb96358-367f-4201-a2f5-0bbcebff158f",
   "metadata": {},
   "outputs": [],
   "source": [
    "s8.remove(1000)"
   ]
  },
  {
   "cell_type": "code",
   "execution_count": null,
   "id": "624ce8e2-c021-4422-a888-4f94258b9d99",
   "metadata": {},
   "outputs": [],
   "source": [
    "s8.discard(9999)\n",
    "s8"
   ]
  },
  {
   "cell_type": "markdown",
   "id": "7ddcf1bc-af4a-49b6-a9ff-dbc30d607809",
   "metadata": {},
   "source": [
    "Remove and Discard diff\n",
    "Remove - Throws error if member is not available\n",
    "Discard - Does not throw error"
   ]
  },
  {
   "cell_type": "code",
   "execution_count": null,
   "id": "951fe464-1a9f-4b01-86f4-d1be056e9205",
   "metadata": {},
   "outputs": [],
   "source": [
    "a= set({1,2,3})\n",
    "a"
   ]
  },
  {
   "cell_type": "code",
   "execution_count": null,
   "id": "616d673f-b242-43ff-b6bb-6c4388fcf254",
   "metadata": {},
   "outputs": [],
   "source": [
    "s9 = set({1,2,3,4,5})\n",
    "for i in s9:\n",
    "    print(i)"
   ]
  },
  {
   "cell_type": "code",
   "execution_count": null,
   "id": "1d1c2f47-570d-43ea-a7d1-68296dead794",
   "metadata": {},
   "outputs": [],
   "source": [
    "for i in enumerate(s9):\n",
    "    print(i)"
   ]
  },
  {
   "cell_type": "markdown",
   "id": "1939098f-6fda-40f1-bf69-6d841218ee04",
   "metadata": {},
   "source": [
    "SET OPERATIONS"
   ]
  },
  {
   "cell_type": "code",
   "execution_count": null,
   "id": "38180050-ef22-427a-a0d9-28d5e9c77810",
   "metadata": {},
   "outputs": [],
   "source": [
    "a = set({1,2,3,4,5})\n",
    "b = set({6,7,8})\n",
    "c = set({9,10})\n",
    "a , b , c"
   ]
  },
  {
   "cell_type": "code",
   "execution_count": null,
   "id": "f39bd666-0d17-4b5e-ac1c-6d26928c3a71",
   "metadata": {},
   "outputs": [],
   "source": [
    "a.union(b)"
   ]
  },
  {
   "cell_type": "code",
   "execution_count": null,
   "id": "1b9b69b7-8169-49d9-ae5c-a851a097a724",
   "metadata": {},
   "outputs": [],
   "source": [
    "a|c"
   ]
  },
  {
   "cell_type": "code",
   "execution_count": null,
   "id": "de8f864e-33c9-4680-921d-a17e3f1047fb",
   "metadata": {},
   "outputs": [],
   "source": [
    "b|c"
   ]
  },
  {
   "cell_type": "code",
   "execution_count": null,
   "id": "d5b3ae41-9451-4119-bb0a-e53bffad9fbe",
   "metadata": {},
   "outputs": [],
   "source": [
    "a| b| c"
   ]
  },
  {
   "cell_type": "code",
   "execution_count": null,
   "id": "29bfa5a2-a30f-4542-a29d-658ddf3272b4",
   "metadata": {},
   "outputs": [],
   "source": []
  },
  {
   "cell_type": "code",
   "execution_count": null,
   "id": "9baaadb9-b352-415e-99b6-4cf7a21a09ba",
   "metadata": {},
   "outputs": [],
   "source": [
    "a = set({1,2,3,4,5})\n",
    "b = set({5,6,7,8})\n",
    "c = set({8,9,10})"
   ]
  },
  {
   "cell_type": "code",
   "execution_count": null,
   "id": "38a59a3b-c752-4eb7-b768-d2509dbc547b",
   "metadata": {},
   "outputs": [],
   "source": [
    "a.difference(b)"
   ]
  },
  {
   "cell_type": "code",
   "execution_count": null,
   "id": "78a4c61a-2912-4982-abec-93b0e3ffeacd",
   "metadata": {},
   "outputs": [],
   "source": []
  },
  {
   "cell_type": "code",
   "execution_count": null,
   "id": "39fa3d05-c9c5-4754-9166-18a538f76f58",
   "metadata": {},
   "outputs": [],
   "source": [
    "b.difference(a)"
   ]
  },
  {
   "cell_type": "code",
   "execution_count": null,
   "id": "f319b4bc-a7dd-4aa3-9420-45fbd0de8173",
   "metadata": {},
   "outputs": [],
   "source": [
    "a.difference(c)"
   ]
  },
  {
   "cell_type": "code",
   "execution_count": null,
   "id": "7ec6d996-b4ec-45b1-a56a-53465a9c0538",
   "metadata": {},
   "outputs": [],
   "source": [
    "c.difference(a)"
   ]
  },
  {
   "cell_type": "code",
   "execution_count": null,
   "id": "a3828500-05de-4bd2-9653-43f88ca49276",
   "metadata": {},
   "outputs": [],
   "source": [
    "a\n",
    "b\n",
    "c"
   ]
  },
  {
   "cell_type": "code",
   "execution_count": null,
   "id": "851cb549-1452-4509-8aa3-225110992bfa",
   "metadata": {},
   "outputs": [],
   "source": [
    "s1"
   ]
  },
  {
   "cell_type": "code",
   "execution_count": null,
   "id": "e1c75cfd-d5f8-4006-8159-a137a89e6694",
   "metadata": {},
   "outputs": [],
   "source": [
    "a.difference(a)"
   ]
  },
  {
   "cell_type": "code",
   "execution_count": null,
   "id": "2dc8c61e-656d-4c05-b906-db1df53fe9e4",
   "metadata": {},
   "outputs": [],
   "source": [
    "v = {1,2}\n",
    "type(v)"
   ]
  },
  {
   "cell_type": "code",
   "execution_count": null,
   "id": "02d32172-ff21-4a85-9a5f-8f08ac775724",
   "metadata": {},
   "outputs": [],
   "source": []
  },
  {
   "cell_type": "code",
   "execution_count": null,
   "id": "cdf5a046-3b3e-4267-bfdd-252d774ce93c",
   "metadata": {},
   "outputs": [],
   "source": []
  }
 ],
 "metadata": {
  "kernelspec": {
   "display_name": "Python 3 (ipykernel)",
   "language": "python",
   "name": "python3"
  },
  "language_info": {
   "codemirror_mode": {
    "name": "ipython",
    "version": 3
   },
   "file_extension": ".py",
   "mimetype": "text/x-python",
   "name": "python",
   "nbconvert_exporter": "python",
   "pygments_lexer": "ipython3",
   "version": "3.13.5"
  }
 },
 "nbformat": 4,
 "nbformat_minor": 5
}
