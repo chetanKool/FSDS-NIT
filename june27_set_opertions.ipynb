{
 "cells": [
  {
   "cell_type": "code",
   "execution_count": 1,
   "id": "77d2f7f8-c205-4f15-af39-9c06fbf2fd2c",
   "metadata": {},
   "outputs": [],
   "source": [
    "s1 = {1,2,3,4,5}\n",
    "s2={2,3,4,6,7,8}\n",
    "s3={6,7,8,9,10,11}"
   ]
  },
  {
   "cell_type": "code",
   "execution_count": 2,
   "id": "165b7534-a033-4e50-ae75-eed7959b9e15",
   "metadata": {},
   "outputs": [
    {
     "data": {
      "text/plain": [
       "{1, 2, 3, 4, 5, 6, 7, 8}"
      ]
     },
     "execution_count": 2,
     "metadata": {},
     "output_type": "execute_result"
    }
   ],
   "source": [
    "s1|s2"
   ]
  },
  {
   "cell_type": "code",
   "execution_count": 4,
   "id": "99067a09-d60a-458f-a6e1-e1c83b70b453",
   "metadata": {},
   "outputs": [
    {
     "ename": "NameError",
     "evalue": "name 'S1' is not defined",
     "output_type": "error",
     "traceback": [
      "\u001b[31m---------------------------------------------------------------------------\u001b[39m",
      "\u001b[31mNameError\u001b[39m                                 Traceback (most recent call last)",
      "\u001b[36mCell\u001b[39m\u001b[36m \u001b[39m\u001b[32mIn[4]\u001b[39m\u001b[32m, line 1\u001b[39m\n\u001b[32m----> \u001b[39m\u001b[32m1\u001b[39m \u001b[43mS1\u001b[49m.diff\n",
      "\u001b[31mNameError\u001b[39m: name 'S1' is not defined"
     ]
    }
   ],
   "source": [
    "S1.diff"
   ]
  },
  {
   "cell_type": "code",
   "execution_count": 5,
   "id": "18d3cdaa-25c6-4043-9639-1ccfc1f20855",
   "metadata": {},
   "outputs": [
    {
     "data": {
      "text/plain": [
       "{1, 5}"
      ]
     },
     "execution_count": 5,
     "metadata": {},
     "output_type": "execute_result"
    }
   ],
   "source": [
    "s1.difference(s2)"
   ]
  },
  {
   "cell_type": "code",
   "execution_count": null,
   "id": "ead9cee2-763f-4d91-8841-69e334948926",
   "metadata": {},
   "outputs": [],
   "source": [
    "s1 = {1,2,3,4,5}\n",
    "s2={2,3,4,6,7,8}\n",
    "s3={6,7,8,9,10,11}"
   ]
  },
  {
   "cell_type": "code",
   "execution_count": 6,
   "id": "609f0743-fb72-4999-aca7-1ee8a3e15571",
   "metadata": {},
   "outputs": [
    {
     "ename": "NameError",
     "evalue": "name 'c' is not defined",
     "output_type": "error",
     "traceback": [
      "\u001b[31m---------------------------------------------------------------------------\u001b[39m",
      "\u001b[31mNameError\u001b[39m                                 Traceback (most recent call last)",
      "\u001b[36mCell\u001b[39m\u001b[36m \u001b[39m\u001b[32mIn[6]\u001b[39m\u001b[32m, line 1\u001b[39m\n\u001b[32m----> \u001b[39m\u001b[32m1\u001b[39m \u001b[43mc\u001b[49m-a\n",
      "\u001b[31mNameError\u001b[39m: name 'c' is not defined"
     ]
    }
   ],
   "source": [
    "c-a"
   ]
  },
  {
   "cell_type": "code",
   "execution_count": 7,
   "id": "adcf6da2-2c85-4c51-ac91-269a040f792e",
   "metadata": {},
   "outputs": [
    {
     "data": {
      "text/plain": [
       "{6, 7, 8, 9, 10, 11}"
      ]
     },
     "execution_count": 7,
     "metadata": {},
     "output_type": "execute_result"
    }
   ],
   "source": [
    "s3-s1"
   ]
  },
  {
   "cell_type": "code",
   "execution_count": 8,
   "id": "2e82071c-b1e3-4e99-8c3f-c613679fc6c9",
   "metadata": {},
   "outputs": [
    {
     "data": {
      "text/plain": [
       "{1, 5, 6, 7, 8}"
      ]
     },
     "execution_count": 8,
     "metadata": {},
     "output_type": "execute_result"
    }
   ],
   "source": [
    "s1^s2"
   ]
  },
  {
   "cell_type": "code",
   "execution_count": 9,
   "id": "f265b22c-9bb1-4655-99c5-8749e785c3eb",
   "metadata": {},
   "outputs": [],
   "source": [
    "a  = {1,2,3,4,5}\n",
    "b = {4,5,6,7,8}\n",
    "c ={8,9,10}"
   ]
  },
  {
   "cell_type": "code",
   "execution_count": 10,
   "id": "c6d91a73-8f22-4695-9632-62c763b897e5",
   "metadata": {},
   "outputs": [
    {
     "data": {
      "text/plain": [
       "{1, 2, 3, 4, 5, 8, 9, 10}"
      ]
     },
     "execution_count": 10,
     "metadata": {},
     "output_type": "execute_result"
    }
   ],
   "source": [
    "c.symmetric_difference(a)"
   ]
  },
  {
   "cell_type": "code",
   "execution_count": 11,
   "id": "44e162ae-f0b0-4999-826c-c6f965957769",
   "metadata": {},
   "outputs": [
    {
     "data": {
      "text/plain": [
       "{4, 5, 6, 7, 9, 10}"
      ]
     },
     "execution_count": 11,
     "metadata": {},
     "output_type": "execute_result"
    }
   ],
   "source": [
    "b.symmetric_difference(c)"
   ]
  },
  {
   "cell_type": "code",
   "execution_count": 12,
   "id": "ab4600f4-d8f9-47c6-b345-240deb384a89",
   "metadata": {},
   "outputs": [
    {
     "data": {
      "text/plain": [
       "{4, 5, 6, 7, 9, 10}"
      ]
     },
     "execution_count": 12,
     "metadata": {},
     "output_type": "execute_result"
    }
   ],
   "source": [
    "c.symmetric_difference(b)"
   ]
  },
  {
   "cell_type": "code",
   "execution_count": null,
   "id": "0bd5bed9-8220-4ca7-bee0-7020274facbe",
   "metadata": {},
   "outputs": [],
   "source": [
    "symmbertic diff gives non common item between 2 sets"
   ]
  },
  {
   "cell_type": "code",
   "execution_count": 13,
   "id": "a7c9a57d-c918-4197-8b3a-e18b0f3a15db",
   "metadata": {},
   "outputs": [
    {
     "data": {
      "text/plain": [
       "{8, 9, 10}"
      ]
     },
     "execution_count": 13,
     "metadata": {},
     "output_type": "execute_result"
    }
   ],
   "source": [
    "c-a"
   ]
  },
  {
   "cell_type": "code",
   "execution_count": 14,
   "id": "45a0370d-0e89-4525-b777-849ed87b0bb7",
   "metadata": {},
   "outputs": [],
   "source": [
    "a  = {1,2,3,4,5}\n",
    "b = {4,5,6,7,8}\n",
    "c ={8,9,10}"
   ]
  },
  {
   "cell_type": "code",
   "execution_count": 19,
   "id": "bd01eb2e-40e2-41ae-98b3-0ccf1136b7ff",
   "metadata": {},
   "outputs": [],
   "source": [
    "a.symmetric_difference_update(b)"
   ]
  },
  {
   "cell_type": "code",
   "execution_count": 17,
   "id": "19239ddd-0e48-45ea-bf7b-65537b796ad3",
   "metadata": {},
   "outputs": [
    {
     "data": {
      "text/plain": [
       "{1, 2, 3, 4, 5}"
      ]
     },
     "execution_count": 17,
     "metadata": {},
     "output_type": "execute_result"
    }
   ],
   "source": [
    "a"
   ]
  },
  {
   "cell_type": "code",
   "execution_count": 20,
   "id": "39ed5b71-620b-47f6-850a-4089ae37718c",
   "metadata": {},
   "outputs": [
    {
     "name": "stdout",
     "output_type": "stream",
     "text": [
      "{1, 2, 3, 7, 6, 8}\n"
     ]
    }
   ],
   "source": [
    "print(a)"
   ]
  },
  {
   "cell_type": "code",
   "execution_count": null,
   "id": "1dc952a1-ae3c-4c98-9a35-c3e421fbc7a1",
   "metadata": {},
   "outputs": [],
   "source": [
    "symmetric_difference_update basically update the original set excluding common items"
   ]
  },
  {
   "cell_type": "code",
   "execution_count": 21,
   "id": "1ab2840d-0dda-494a-ac8e-78cda1ad099b",
   "metadata": {},
   "outputs": [
    {
     "data": {
      "text/plain": [
       "{1, 2, 3, 6, 7, 8}"
      ]
     },
     "execution_count": 21,
     "metadata": {},
     "output_type": "execute_result"
    }
   ],
   "source": [
    "a"
   ]
  },
  {
   "cell_type": "code",
   "execution_count": 22,
   "id": "2d046391-962c-40c0-94f1-162ce1d59d2e",
   "metadata": {},
   "outputs": [
    {
     "data": {
      "text/plain": [
       "{6, 7, 8}"
      ]
     },
     "execution_count": 22,
     "metadata": {},
     "output_type": "execute_result"
    }
   ],
   "source": [
    "a.intersection(b)"
   ]
  },
  {
   "cell_type": "code",
   "execution_count": null,
   "id": "60e50140-7f64-456f-95eb-4a26dc310a9e",
   "metadata": {},
   "outputs": [],
   "source": []
  },
  {
   "cell_type": "code",
   "execution_count": 23,
   "id": "707a074b-9697-41ac-999a-4d5d8310ff59",
   "metadata": {},
   "outputs": [
    {
     "data": {
      "text/plain": [
       "{6, 7, 8}"
      ]
     },
     "execution_count": 23,
     "metadata": {},
     "output_type": "execute_result"
    }
   ],
   "source": [
    "a & b"
   ]
  },
  {
   "cell_type": "code",
   "execution_count": 25,
   "id": "c6a96f14-66d5-45bb-b3fe-c61b20136677",
   "metadata": {},
   "outputs": [
    {
     "data": {
      "text/plain": [
       "{8}"
      ]
     },
     "execution_count": 25,
     "metadata": {},
     "output_type": "execute_result"
    }
   ],
   "source": [
    "b & c"
   ]
  },
  {
   "cell_type": "code",
   "execution_count": 26,
   "id": "460de221-7dc4-48cc-bede-5fe7f1286ce8",
   "metadata": {},
   "outputs": [
    {
     "data": {
      "text/plain": [
       "{8}"
      ]
     },
     "execution_count": 26,
     "metadata": {},
     "output_type": "execute_result"
    }
   ],
   "source": [
    "a & b & c"
   ]
  },
  {
   "cell_type": "code",
   "execution_count": 27,
   "id": "14261993-849d-4cf5-a746-e4bb0d42e0f8",
   "metadata": {},
   "outputs": [
    {
     "name": "stdout",
     "output_type": "stream",
     "text": [
      "{1, 2, 3, 7, 6, 8}\n",
      "{4, 5, 6, 7, 8}\n",
      "{8, 9, 10}\n"
     ]
    }
   ],
   "source": [
    "print(a)\n",
    "print(b) \n",
    "print(c)"
   ]
  },
  {
   "cell_type": "code",
   "execution_count": 28,
   "id": "ea08aa20-78ca-4434-858d-43f884b44c0b",
   "metadata": {},
   "outputs": [],
   "source": [
    "c.intersection_update(b)"
   ]
  },
  {
   "cell_type": "code",
   "execution_count": 29,
   "id": "e3f6d523-a8e1-4d24-8e11-eb62577bdddb",
   "metadata": {},
   "outputs": [
    {
     "name": "stdout",
     "output_type": "stream",
     "text": [
      "{8}\n"
     ]
    }
   ],
   "source": [
    "print(c)"
   ]
  },
  {
   "cell_type": "code",
   "execution_count": 30,
   "id": "cdc36057-316c-458b-ad2c-82d6bc4ac9eb",
   "metadata": {},
   "outputs": [
    {
     "data": {
      "text/plain": [
       "{1, 2, 3, 4, 5, 6, 7, 8}"
      ]
     },
     "execution_count": 30,
     "metadata": {},
     "output_type": "execute_result"
    }
   ],
   "source": [
    "a.union(b)"
   ]
  },
  {
   "cell_type": "code",
   "execution_count": 31,
   "id": "7d648c0c-3eb3-4fb3-a632-14fe60a27188",
   "metadata": {},
   "outputs": [
    {
     "data": {
      "text/plain": [
       "{6, 7, 8}"
      ]
     },
     "execution_count": 31,
     "metadata": {},
     "output_type": "execute_result"
    }
   ],
   "source": [
    "a.intersection(b)"
   ]
  },
  {
   "cell_type": "code",
   "execution_count": 33,
   "id": "de6a0908-b9ba-4e51-9fce-2afdaae5e812",
   "metadata": {},
   "outputs": [],
   "source": [
    "A1 ={1,2,3,4,5,6,7,8,9}\n",
    "B1 = {3,4,5,6,8}\n",
    "C1={10,20,30,40}"
   ]
  },
  {
   "cell_type": "code",
   "execution_count": 34,
   "id": "850d6977-bdc9-4c98-aeba-70a6439dc2c5",
   "metadata": {},
   "outputs": [
    {
     "data": {
      "text/plain": [
       "True"
      ]
     },
     "execution_count": 34,
     "metadata": {},
     "output_type": "execute_result"
    }
   ],
   "source": [
    "B1.issubset(A1)"
   ]
  },
  {
   "cell_type": "code",
   "execution_count": 35,
   "id": "4365f33a-760f-42d0-a618-99ec3d2ccb03",
   "metadata": {},
   "outputs": [
    {
     "data": {
      "text/plain": [
       "True"
      ]
     },
     "execution_count": 35,
     "metadata": {},
     "output_type": "execute_result"
    }
   ],
   "source": [
    "A1.issuperset(B1)"
   ]
  },
  {
   "cell_type": "code",
   "execution_count": 36,
   "id": "6c8cab80-f05b-408c-9226-4918bb14281c",
   "metadata": {},
   "outputs": [
    {
     "data": {
      "text/plain": [
       "True"
      ]
     },
     "execution_count": 36,
     "metadata": {},
     "output_type": "execute_result"
    }
   ],
   "source": [
    "C1.isdisjoint(A1)"
   ]
  },
  {
   "cell_type": "code",
   "execution_count": 37,
   "id": "b4019d90-975f-4b06-ade5-f0316f42f710",
   "metadata": {},
   "outputs": [
    {
     "data": {
      "text/plain": [
       "True"
      ]
     },
     "execution_count": 37,
     "metadata": {},
     "output_type": "execute_result"
    }
   ],
   "source": [
    "C1.isdisjoint(B1)"
   ]
  },
  {
   "cell_type": "code",
   "execution_count": 38,
   "id": "399ddff8-94db-4c23-9fdc-7089583c2ca9",
   "metadata": {},
   "outputs": [],
   "source": [
    "A2 ={15,25,35,45}\n",
    "B2 = {3,4,5,6,8}\n",
    "C2={10,20,30,40}"
   ]
  },
  {
   "cell_type": "code",
   "execution_count": 39,
   "id": "7c70a142-fcb4-49fe-bf6f-7853fc8e3c49",
   "metadata": {},
   "outputs": [
    {
     "data": {
      "text/plain": [
       "False"
      ]
     },
     "execution_count": 39,
     "metadata": {},
     "output_type": "execute_result"
    }
   ],
   "source": [
    "B2.issuperset(A1)"
   ]
  },
  {
   "cell_type": "code",
   "execution_count": 40,
   "id": "7296755c-2459-405e-8d8c-ae52beb7b075",
   "metadata": {},
   "outputs": [
    {
     "data": {
      "text/plain": [
       "False"
      ]
     },
     "execution_count": 40,
     "metadata": {},
     "output_type": "execute_result"
    }
   ],
   "source": [
    "B2.issubset(C2)"
   ]
  },
  {
   "cell_type": "code",
   "execution_count": 41,
   "id": "14924fda-a2f2-4db8-ae97-fa7f7fb6ea1d",
   "metadata": {},
   "outputs": [
    {
     "data": {
      "text/plain": [
       "True"
      ]
     },
     "execution_count": 41,
     "metadata": {},
     "output_type": "execute_result"
    }
   ],
   "source": [
    "C2.isdisjoint(A2)"
   ]
  },
  {
   "cell_type": "code",
   "execution_count": 42,
   "id": "cc439645-1467-4427-a730-832092885719",
   "metadata": {},
   "outputs": [
    {
     "data": {
      "text/plain": [
       "True"
      ]
     },
     "execution_count": 42,
     "metadata": {},
     "output_type": "execute_result"
    }
   ],
   "source": [
    "C2.isdisjoint(B2)"
   ]
  },
  {
   "cell_type": "code",
   "execution_count": null,
   "id": "a0ac71ee-cd6d-429c-a9d5-9e786e397df2",
   "metadata": {},
   "outputs": [],
   "source": []
  },
  {
   "cell_type": "code",
   "execution_count": null,
   "id": "2cd929d3-923c-4a21-8ab5-58aed2059afa",
   "metadata": {},
   "outputs": [],
   "source": []
  },
  {
   "cell_type": "code",
   "execution_count": null,
   "id": "e05e663c-76db-45da-b75f-fdaea8aecc13",
   "metadata": {},
   "outputs": [],
   "source": []
  },
  {
   "cell_type": "markdown",
   "id": "fca390e6-f0fd-4698-9b99-5fd01c1ee6dd",
   "metadata": {},
   "source": []
  }
 ],
 "metadata": {
  "kernelspec": {
   "display_name": "Python 3 (ipykernel)",
   "language": "python",
   "name": "python3"
  },
  "language_info": {
   "codemirror_mode": {
    "name": "ipython",
    "version": 3
   },
   "file_extension": ".py",
   "mimetype": "text/x-python",
   "name": "python",
   "nbconvert_exporter": "python",
   "pygments_lexer": "ipython3",
   "version": "3.13.5"
  }
 },
 "nbformat": 4,
 "nbformat_minor": 5
}
