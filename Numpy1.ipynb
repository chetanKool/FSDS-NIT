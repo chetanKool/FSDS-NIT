{
 "cells": [
  {
   "cell_type": "code",
   "execution_count": 41,
   "id": "01519dd9-45b3-48e0-8edc-ab30c6ec5b8a",
   "metadata": {},
   "outputs": [],
   "source": [
    "import numpy as np"
   ]
  },
  {
   "cell_type": "code",
   "execution_count": 42,
   "id": "3c0cb000-1288-4f56-b8f6-b0fd07cb8991",
   "metadata": {},
   "outputs": [
    {
     "data": {
      "text/plain": [
       "'3.13.5 | packaged by Anaconda, Inc. | (main, Jun 12 2025, 16:37:03) [MSC v.1929 64 bit (AMD64)]'"
      ]
     },
     "execution_count": 42,
     "metadata": {},
     "output_type": "execute_result"
    }
   ],
   "source": [
    "import sys\n",
    "sys.version"
   ]
  },
  {
   "cell_type": "code",
   "execution_count": 43,
   "id": "ad2e503e-1603-4bd3-b6e5-b2427911a02f",
   "metadata": {},
   "outputs": [
    {
     "data": {
      "text/plain": [
       "'2.2.6'"
      ]
     },
     "execution_count": 43,
     "metadata": {},
     "output_type": "execute_result"
    }
   ],
   "source": [
    "np.__version__"
   ]
  },
  {
   "cell_type": "code",
   "execution_count": 44,
   "id": "81fac2fc-78bf-4030-919e-71ea781137a3",
   "metadata": {},
   "outputs": [
    {
     "data": {
      "text/plain": [
       "[0, 1, 2, 3, 4, 5]"
      ]
     },
     "execution_count": 44,
     "metadata": {},
     "output_type": "execute_result"
    }
   ],
   "source": [
    "my_list  = [0,1,2,3,4,5]\n",
    "my_list"
   ]
  },
  {
   "cell_type": "code",
   "execution_count": 45,
   "id": "ec34b0ec-c830-42a4-8237-b31f6809287b",
   "metadata": {},
   "outputs": [
    {
     "data": {
      "text/plain": [
       "list"
      ]
     },
     "execution_count": 45,
     "metadata": {},
     "output_type": "execute_result"
    }
   ],
   "source": [
    "type(my_list)"
   ]
  },
  {
   "cell_type": "code",
   "execution_count": 46,
   "id": "86be8669-9a2a-4df5-9db1-818774ec16b8",
   "metadata": {},
   "outputs": [
    {
     "data": {
      "text/plain": [
       "array([0, 1, 2, 3, 4, 5])"
      ]
     },
     "execution_count": 46,
     "metadata": {},
     "output_type": "execute_result"
    }
   ],
   "source": [
    "arr = np.array(my_list)\n",
    "arr"
   ]
  },
  {
   "cell_type": "code",
   "execution_count": 47,
   "id": "26e85cc3-0a30-4b55-b4b8-82c54ae79859",
   "metadata": {},
   "outputs": [
    {
     "data": {
      "text/plain": [
       "numpy.ndarray"
      ]
     },
     "execution_count": 47,
     "metadata": {},
     "output_type": "execute_result"
    }
   ],
   "source": [
    "type(arr)"
   ]
  },
  {
   "cell_type": "code",
   "execution_count": 48,
   "id": "e4ad420f-ae3f-41b5-a721-818149d480cb",
   "metadata": {},
   "outputs": [
    {
     "data": {
      "text/plain": [
       "array([0, 1, 2, 3, 4, 5, 6, 7, 8, 9])"
      ]
     },
     "execution_count": 48,
     "metadata": {},
     "output_type": "execute_result"
    }
   ],
   "source": [
    "np.arange(10)"
   ]
  },
  {
   "cell_type": "code",
   "execution_count": 49,
   "id": "908337aa-3212-4855-91f2-a69101fb63ae",
   "metadata": {},
   "outputs": [
    {
     "data": {
      "text/plain": [
       "array([10, 11, 12, 13, 14, 15, 16, 17, 18, 19])"
      ]
     },
     "execution_count": 49,
     "metadata": {},
     "output_type": "execute_result"
    }
   ],
   "source": [
    "np.arange(10,20)"
   ]
  },
  {
   "cell_type": "code",
   "execution_count": 50,
   "id": "8d8c3cbe-47cb-44d2-a057-900830b2e0a6",
   "metadata": {},
   "outputs": [
    {
     "data": {
      "text/plain": [
       "array([10, 15, 20, 25, 30, 35, 40, 45])"
      ]
     },
     "execution_count": 50,
     "metadata": {},
     "output_type": "execute_result"
    }
   ],
   "source": [
    "np.arange(10,50,5)"
   ]
  },
  {
   "cell_type": "code",
   "execution_count": 51,
   "id": "754eb6e1-ce98-4a7d-8e54-aa5a324f703a",
   "metadata": {},
   "outputs": [
    {
     "data": {
      "text/plain": [
       "array([10, 13, 16, 19, 22, 25, 28])"
      ]
     },
     "execution_count": 51,
     "metadata": {},
     "output_type": "execute_result"
    }
   ],
   "source": [
    "np.arange(10,30,3)"
   ]
  },
  {
   "cell_type": "code",
   "execution_count": null,
   "id": "d5331bd6-c2e4-41c4-ac20-194c6026be24",
   "metadata": {},
   "outputs": [],
   "source": []
  },
  {
   "cell_type": "code",
   "execution_count": 52,
   "id": "f39c1b1f-28e6-4de4-a8cb-e201a3d20671",
   "metadata": {},
   "outputs": [
    {
     "data": {
      "text/plain": [
       "array([], dtype=int64)"
      ]
     },
     "execution_count": 52,
     "metadata": {},
     "output_type": "execute_result"
    }
   ],
   "source": [
    "np.arange(20,8)"
   ]
  },
  {
   "cell_type": "code",
   "execution_count": 53,
   "id": "8b2a24c7-0dcc-41d2-8c14-10015e245e1c",
   "metadata": {},
   "outputs": [
    {
     "data": {
      "text/plain": [
       "array([-20, -19, -18, -17, -16, -15, -14, -13, -12, -11, -10,  -9,  -8,\n",
       "        -7,  -6,  -5,  -4,  -3,  -2,  -1,   0,   1,   2,   3,   4,   5,\n",
       "         6,   7])"
      ]
     },
     "execution_count": 53,
     "metadata": {},
     "output_type": "execute_result"
    }
   ],
   "source": [
    "np.arange(-20,8) #first number should be < second number"
   ]
  },
  {
   "cell_type": "code",
   "execution_count": 54,
   "id": "ee81051c-c303-4aac-8ce3-28a41748b976",
   "metadata": {},
   "outputs": [
    {
     "data": {
      "text/plain": [
       "array([-20, -19, -18, -17, -16, -15, -14, -13, -12, -11, -10,  -9,  -8,\n",
       "        -7,  -6,  -5,  -4,  -3,  -2,  -1,   0,   1,   2,   3,   4,   5,\n",
       "         6,   7])"
      ]
     },
     "execution_count": 54,
     "metadata": {},
     "output_type": "execute_result"
    }
   ],
   "source": [
    "n = np.arange(-20,8)\n",
    "n"
   ]
  },
  {
   "cell_type": "code",
   "execution_count": 55,
   "id": "3a6c9b6b-88b1-4881-984e-2f2fc11d15ac",
   "metadata": {},
   "outputs": [
    {
     "data": {
      "text/plain": [
       "array([0., 0., 0.])"
      ]
     },
     "execution_count": 55,
     "metadata": {},
     "output_type": "execute_result"
    }
   ],
   "source": [
    "np.zeros(3)"
   ]
  },
  {
   "cell_type": "code",
   "execution_count": 56,
   "id": "a60a6574-112d-4bf4-91ae-ab673184a5a7",
   "metadata": {},
   "outputs": [
    {
     "data": {
      "text/plain": [
       "array([0, 0, 0])"
      ]
     },
     "execution_count": 56,
     "metadata": {},
     "output_type": "execute_result"
    }
   ],
   "source": [
    "np.zeros(3,dtype = int)"
   ]
  },
  {
   "cell_type": "code",
   "execution_count": 57,
   "id": "02743d20-cdd8-49ca-9af6-83e17bf509ac",
   "metadata": {},
   "outputs": [
    {
     "data": {
      "text/plain": [
       "array(['', '', ''], dtype='<U1')"
      ]
     },
     "execution_count": 57,
     "metadata": {},
     "output_type": "execute_result"
    }
   ],
   "source": [
    "np.zeros(3,dtype = str)"
   ]
  },
  {
   "cell_type": "code",
   "execution_count": 58,
   "id": "1e454c6b-5f69-42bd-83e4-838451cc1eef",
   "metadata": {},
   "outputs": [
    {
     "data": {
      "text/plain": [
       "array([False, False, False])"
      ]
     },
     "execution_count": 58,
     "metadata": {},
     "output_type": "execute_result"
    }
   ],
   "source": [
    "np.zeros(3,dtype = bool)"
   ]
  },
  {
   "cell_type": "code",
   "execution_count": 59,
   "id": "07dd4673-a432-434b-bfb1-e895e633732d",
   "metadata": {},
   "outputs": [
    {
     "data": {
      "text/plain": [
       "array([0., 0., 0., 0., 0.])"
      ]
     },
     "execution_count": 59,
     "metadata": {},
     "output_type": "execute_result"
    }
   ],
   "source": [
    "z = np.zeros(5)\n",
    "z"
   ]
  },
  {
   "cell_type": "code",
   "execution_count": 60,
   "id": "b8853b69-d18e-409b-be07-6cde3b39f28f",
   "metadata": {},
   "outputs": [
    {
     "data": {
      "text/plain": [
       "array([[0., 0., 0.],\n",
       "       [0., 0., 0.],\n",
       "       [0., 0., 0.],\n",
       "       [0., 0., 0.],\n",
       "       [0., 0., 0.]])"
      ]
     },
     "execution_count": 60,
     "metadata": {},
     "output_type": "execute_result"
    }
   ],
   "source": [
    "np.zeros((5,3))"
   ]
  },
  {
   "cell_type": "code",
   "execution_count": 61,
   "id": "f1a345ba-1087-4c38-bc0d-53e3a49187ec",
   "metadata": {},
   "outputs": [
    {
     "data": {
      "text/plain": [
       "array([[0, 0],\n",
       "       [0, 0]])"
      ]
     },
     "execution_count": 61,
     "metadata": {},
     "output_type": "execute_result"
    }
   ],
   "source": [
    "np.zeros((2,2),dtype=int)"
   ]
  },
  {
   "cell_type": "code",
   "execution_count": 62,
   "id": "28d8fc29-9b21-4e48-90f4-a7f4a5c47815",
   "metadata": {},
   "outputs": [
    {
     "data": {
      "text/plain": [
       "array([], dtype=float64)"
      ]
     },
     "execution_count": 62,
     "metadata": {},
     "output_type": "execute_result"
    }
   ],
   "source": [
    "np.zeros(0)"
   ]
  },
  {
   "cell_type": "code",
   "execution_count": 63,
   "id": "d882938a-eb82-4997-a45a-7a660f2c98b2",
   "metadata": {},
   "outputs": [
    {
     "data": {
      "text/plain": [
       "array([[0, 0, 0],\n",
       "       [0, 0, 0],\n",
       "       [0, 0, 0]])"
      ]
     },
     "execution_count": 63,
     "metadata": {},
     "output_type": "execute_result"
    }
   ],
   "source": [
    "np.zeros((3,3), dtype=int)"
   ]
  },
  {
   "cell_type": "code",
   "execution_count": 64,
   "id": "3a30773d-c93e-4298-b42f-05a20f410dd3",
   "metadata": {},
   "outputs": [
    {
     "data": {
      "text/plain": [
       "array([[0, 0, 0, 0, 0, 0, 0, 0, 0],\n",
       "       [0, 0, 0, 0, 0, 0, 0, 0, 0],\n",
       "       [0, 0, 0, 0, 0, 0, 0, 0, 0],\n",
       "       [0, 0, 0, 0, 0, 0, 0, 0, 0],\n",
       "       [0, 0, 0, 0, 0, 0, 0, 0, 0]])"
      ]
     },
     "execution_count": 64,
     "metadata": {},
     "output_type": "execute_result"
    }
   ],
   "source": [
    "nd = np.zeros((5,9) , dtype=int)\n",
    "nd"
   ]
  },
  {
   "cell_type": "code",
   "execution_count": 65,
   "id": "01555952-d594-4d52-b147-782948558a34",
   "metadata": {},
   "outputs": [
    {
     "data": {
      "text/plain": [
       "array([1., 1., 1.])"
      ]
     },
     "execution_count": 65,
     "metadata": {},
     "output_type": "execute_result"
    }
   ],
   "source": [
    "np.ones(3)"
   ]
  },
  {
   "cell_type": "code",
   "execution_count": 66,
   "id": "51de00a6-60d6-4698-8418-cf084637e50c",
   "metadata": {},
   "outputs": [
    {
     "data": {
      "text/plain": [
       "array([1, 1, 1])"
      ]
     },
     "execution_count": 66,
     "metadata": {},
     "output_type": "execute_result"
    }
   ],
   "source": [
    "np.ones(3,dtype=int)"
   ]
  },
  {
   "cell_type": "code",
   "execution_count": 67,
   "id": "21799df9-ac4e-44ab-ab5e-03438c204430",
   "metadata": {},
   "outputs": [
    {
     "data": {
      "text/plain": [
       "array([[1, 1, 1],\n",
       "       [1, 1, 1],\n",
       "       [1, 1, 1]])"
      ]
     },
     "execution_count": 67,
     "metadata": {},
     "output_type": "execute_result"
    }
   ],
   "source": [
    "np.ones((3,3),dtype=int)"
   ]
  },
  {
   "cell_type": "code",
   "execution_count": 68,
   "id": "25814402-fb92-4f56-9d55-b300badc040e",
   "metadata": {},
   "outputs": [
    {
     "data": {
      "text/plain": [
       "array([[1, 1, 1, 1, 1, 1, 1, 1, 1, 1],\n",
       "       [1, 1, 1, 1, 1, 1, 1, 1, 1, 1],\n",
       "       [1, 1, 1, 1, 1, 1, 1, 1, 1, 1],\n",
       "       [1, 1, 1, 1, 1, 1, 1, 1, 1, 1],\n",
       "       [1, 1, 1, 1, 1, 1, 1, 1, 1, 1],\n",
       "       [1, 1, 1, 1, 1, 1, 1, 1, 1, 1],\n",
       "       [1, 1, 1, 1, 1, 1, 1, 1, 1, 1],\n",
       "       [1, 1, 1, 1, 1, 1, 1, 1, 1, 1],\n",
       "       [1, 1, 1, 1, 1, 1, 1, 1, 1, 1],\n",
       "       [1, 1, 1, 1, 1, 1, 1, 1, 1, 1]])"
      ]
     },
     "execution_count": 68,
     "metadata": {},
     "output_type": "execute_result"
    }
   ],
   "source": [
    "np.ones((10,10),dtype=int)"
   ]
  },
  {
   "cell_type": "code",
   "execution_count": 69,
   "id": "00155e85-9e57-46b9-8f6f-740577aa67f9",
   "metadata": {},
   "outputs": [
    {
     "data": {
      "text/plain": [
       "array([[0, 0, 0, 0, 0, 0, 0, 0, 0],\n",
       "       [0, 0, 0, 0, 0, 0, 0, 0, 0],\n",
       "       [0, 0, 0, 0, 0, 0, 0, 0, 0],\n",
       "       [0, 0, 0, 0, 0, 0, 0, 0, 0],\n",
       "       [0, 0, 0, 0, 0, 0, 0, 0, 0]])"
      ]
     },
     "execution_count": 69,
     "metadata": {},
     "output_type": "execute_result"
    }
   ],
   "source": [
    "nd"
   ]
  },
  {
   "cell_type": "code",
   "execution_count": 70,
   "id": "dfb9b7b6-9678-4e6c-88a3-9b6a96a01254",
   "metadata": {},
   "outputs": [
    {
     "ename": "NameError",
     "evalue": "name 'rand' is not defined",
     "output_type": "error",
     "traceback": [
      "\u001b[31m---------------------------------------------------------------------------\u001b[39m",
      "\u001b[31mNameError\u001b[39m                                 Traceback (most recent call last)",
      "\u001b[36mCell\u001b[39m\u001b[36m \u001b[39m\u001b[32mIn[70]\u001b[39m\u001b[32m, line 1\u001b[39m\n\u001b[32m----> \u001b[39m\u001b[32m1\u001b[39m \u001b[43mrand\u001b[49m(\u001b[32m3\u001b[39m,\u001b[32m2\u001b[39m)\n",
      "\u001b[31mNameError\u001b[39m: name 'rand' is not defined"
     ]
    }
   ],
   "source": [
    "rand(3,2)"
   ]
  },
  {
   "cell_type": "code",
   "execution_count": 71,
   "id": "5a1b57a6-d31d-4647-b416-831d6a077852",
   "metadata": {},
   "outputs": [
    {
     "ename": "AttributeError",
     "evalue": "module 'numpy' has no attribute 'rand'",
     "output_type": "error",
     "traceback": [
      "\u001b[31m---------------------------------------------------------------------------\u001b[39m",
      "\u001b[31mAttributeError\u001b[39m                            Traceback (most recent call last)",
      "\u001b[36mCell\u001b[39m\u001b[36m \u001b[39m\u001b[32mIn[71]\u001b[39m\u001b[32m, line 1\u001b[39m\n\u001b[32m----> \u001b[39m\u001b[32m1\u001b[39m \u001b[43mnp\u001b[49m\u001b[43m.\u001b[49m\u001b[43mrand\u001b[49m(\u001b[32m23\u001b[39m,\u001b[32m3\u001b[39m)\n",
      "\u001b[36mFile \u001b[39m\u001b[32m~\\AppData\\Roaming\\Python\\Python313\\site-packages\\numpy\\__init__.py:427\u001b[39m, in \u001b[36m__getattr__\u001b[39m\u001b[34m(attr)\u001b[39m\n\u001b[32m    424\u001b[39m     \u001b[38;5;28;01mimport\u001b[39;00m\u001b[38;5;250m \u001b[39m\u001b[34;01mnumpy\u001b[39;00m\u001b[34;01m.\u001b[39;00m\u001b[34;01mchar\u001b[39;00m\u001b[38;5;250m \u001b[39m\u001b[38;5;28;01mas\u001b[39;00m\u001b[38;5;250m \u001b[39m\u001b[34;01mchar\u001b[39;00m\n\u001b[32m    425\u001b[39m     \u001b[38;5;28;01mreturn\u001b[39;00m char.chararray\n\u001b[32m--> \u001b[39m\u001b[32m427\u001b[39m \u001b[38;5;28;01mraise\u001b[39;00m \u001b[38;5;167;01mAttributeError\u001b[39;00m(\u001b[33m\"\u001b[39m\u001b[33mmodule \u001b[39m\u001b[38;5;132;01m{!r}\u001b[39;00m\u001b[33m has no attribute \u001b[39m\u001b[33m\"\u001b[39m\n\u001b[32m    428\u001b[39m                      \u001b[33m\"\u001b[39m\u001b[38;5;132;01m{!r}\u001b[39;00m\u001b[33m\"\u001b[39m.format(\u001b[34m__name__\u001b[39m, attr))\n",
      "\u001b[31mAttributeError\u001b[39m: module 'numpy' has no attribute 'rand'"
     ]
    }
   ],
   "source": [
    "np.rand(23,3)"
   ]
  },
  {
   "cell_type": "code",
   "execution_count": 72,
   "id": "e7737951-03ae-445f-b323-f17cd2fe219b",
   "metadata": {},
   "outputs": [
    {
     "ename": "TypeError",
     "evalue": "'module' object is not callable. Did you mean: 'random.random(...)'?",
     "output_type": "error",
     "traceback": [
      "\u001b[31m---------------------------------------------------------------------------\u001b[39m",
      "\u001b[31mTypeError\u001b[39m                                 Traceback (most recent call last)",
      "\u001b[36mCell\u001b[39m\u001b[36m \u001b[39m\u001b[32mIn[72]\u001b[39m\u001b[32m, line 2\u001b[39m\n\u001b[32m      1\u001b[39m \u001b[38;5;28;01mimport\u001b[39;00m\u001b[38;5;250m \u001b[39m\u001b[34;01mrandom\u001b[39;00m\u001b[38;5;250m \u001b[39m\u001b[38;5;28;01mas\u001b[39;00m\u001b[38;5;250m \u001b[39m\u001b[34;01mrand\u001b[39;00m\n\u001b[32m----> \u001b[39m\u001b[32m2\u001b[39m \u001b[43mrand\u001b[49m\u001b[43m(\u001b[49m\u001b[32;43m3\u001b[39;49m\u001b[43m,\u001b[49m\u001b[32;43m2\u001b[39;49m\u001b[43m)\u001b[49m\n",
      "\u001b[31mTypeError\u001b[39m: 'module' object is not callable. Did you mean: 'random.random(...)'?"
     ]
    }
   ],
   "source": [
    "import random as rand\n"
   ]
  },
  {
   "cell_type": "code",
   "execution_count": 73,
   "id": "85b084ec-67bc-462c-a1a1-ff7876472a23",
   "metadata": {},
   "outputs": [
    {
     "data": {
      "text/plain": [
       "array([0.16205504, 0.82872585])"
      ]
     },
     "execution_count": 73,
     "metadata": {},
     "output_type": "execute_result"
    }
   ],
   "source": [
    "np.random.rand(2)"
   ]
  },
  {
   "cell_type": "code",
   "execution_count": 74,
   "id": "37d69149-5848-48cc-9604-6c89e72a085f",
   "metadata": {},
   "outputs": [
    {
     "data": {
      "text/plain": [
       "array([0.04061917, 0.92454253])"
      ]
     },
     "execution_count": 74,
     "metadata": {},
     "output_type": "execute_result"
    }
   ],
   "source": [
    "np.random.rand(2)"
   ]
  },
  {
   "cell_type": "code",
   "execution_count": 75,
   "id": "bbf056d9-e09f-402c-aa15-c8a5e6367a5f",
   "metadata": {},
   "outputs": [
    {
     "data": {
      "text/plain": [
       "array([0.72124161, 0.14015622, 0.04578068])"
      ]
     },
     "execution_count": 75,
     "metadata": {},
     "output_type": "execute_result"
    }
   ],
   "source": [
    "np.random.rand(3)"
   ]
  },
  {
   "cell_type": "code",
   "execution_count": 76,
   "id": "973a03ca-2a5c-4d9c-bed4-5c5228e317b2",
   "metadata": {},
   "outputs": [
    {
     "data": {
      "text/plain": [
       "array([0.08296207, 0.04853086, 0.12021124])"
      ]
     },
     "execution_count": 76,
     "metadata": {},
     "output_type": "execute_result"
    }
   ],
   "source": [
    "np.random.rand(3)"
   ]
  },
  {
   "cell_type": "code",
   "execution_count": 81,
   "id": "552e9db1-d9f4-441d-a85d-0876ff4a0308",
   "metadata": {},
   "outputs": [
    {
     "data": {
      "text/plain": [
       "array([[0.29901726, 0.19759093],\n",
       "       [0.22806791, 0.1145472 ]])"
      ]
     },
     "execution_count": 81,
     "metadata": {},
     "output_type": "execute_result"
    }
   ],
   "source": [
    "np.random.rand(2, 2)"
   ]
  },
  {
   "cell_type": "code",
   "execution_count": 105,
   "id": "1367dc07-8eda-4663-8dde-609b51884db3",
   "metadata": {},
   "outputs": [
    {
     "data": {
      "text/plain": [
       "3"
      ]
     },
     "execution_count": 105,
     "metadata": {},
     "output_type": "execute_result"
    }
   ],
   "source": [
    "np.random.randint(9)"
   ]
  },
  {
   "cell_type": "code",
   "execution_count": 127,
   "id": "3746deec-7bc1-4f6f-a6e9-7fc6df1096ac",
   "metadata": {},
   "outputs": [
    {
     "data": {
      "text/plain": [
       "7"
      ]
     },
     "execution_count": 127,
     "metadata": {},
     "output_type": "execute_result"
    }
   ],
   "source": [
    "np.random.randint(2,10) # 2 included uptil 9"
   ]
  },
  {
   "cell_type": "code",
   "execution_count": 133,
   "id": "baa913b0-c528-486a-9950-b35bcba073ec",
   "metadata": {},
   "outputs": [
    {
     "data": {
      "text/plain": [
       "array([6, 4, 6], dtype=int32)"
      ]
     },
     "execution_count": 133,
     "metadata": {},
     "output_type": "execute_result"
    }
   ],
   "source": [
    "np.random.randint(2,10,3)"
   ]
  },
  {
   "cell_type": "code",
   "execution_count": 153,
   "id": "004dd38d-6b48-41e6-a7ec-1cc2a809648d",
   "metadata": {},
   "outputs": [
    {
     "name": "stdout",
     "output_type": "stream",
     "text": [
      "[4 9 4 3]\n"
     ]
    }
   ],
   "source": [
    "print(np.random.randint(2,10,4))"
   ]
  },
  {
   "cell_type": "code",
   "execution_count": 156,
   "id": "90141677-94ab-4b23-8335-b496986320b4",
   "metadata": {},
   "outputs": [
    {
     "name": "stdout",
     "output_type": "stream",
     "text": [
      "5\n"
     ]
    }
   ],
   "source": [
    "print(np.random.randint(2,10,4)[0])"
   ]
  },
  {
   "cell_type": "code",
   "execution_count": 162,
   "id": "a5d5d663-957f-4466-bd7b-64fda60b35c9",
   "metadata": {},
   "outputs": [
    {
     "name": "stdout",
     "output_type": "stream",
     "text": [
      "[-29 -18  -6   6  -6   0 -17  19 -23   9]\n"
     ]
    }
   ],
   "source": [
    "print(np.random.randint(-30,20,10))"
   ]
  },
  {
   "cell_type": "code",
   "execution_count": 193,
   "id": "ce51d563-0630-48c3-a2a3-56dd0e7e9a2d",
   "metadata": {},
   "outputs": [
    {
     "data": {
      "text/plain": [
       "array([[18, 23, 35, 23, 13, 28, 29, 28, 32, 14],\n",
       "       [23, 31, 27, 17, 32, 35, 16, 18, 19, 37],\n",
       "       [24, 16, 21, 18, 16, 33, 10, 14, 18, 16],\n",
       "       [20, 11, 39, 39, 37, 25, 27, 29, 13, 32],\n",
       "       [15, 28, 17, 36, 21, 25, 38, 31, 10, 19],\n",
       "       [13, 12, 18, 14, 17, 18, 37, 10, 12, 20],\n",
       "       [22, 22, 28, 19, 26, 13, 21, 22, 18, 18],\n",
       "       [27, 15, 38, 17, 13, 21, 34, 34, 33, 20],\n",
       "       [35, 32, 36, 11, 32, 18, 16, 17, 37, 16],\n",
       "       [13, 33, 38, 28, 20, 29, 21, 32, 27, 30]], dtype=int32)"
      ]
     },
     "execution_count": 193,
     "metadata": {},
     "output_type": "execute_result"
    }
   ],
   "source": [
    "np.random.randint(10,40,(10,10))"
   ]
  },
  {
   "cell_type": "code",
   "execution_count": 194,
   "id": "46098616-026c-4c52-9e71-80b482d9e06c",
   "metadata": {},
   "outputs": [
    {
     "data": {
      "text/plain": [
       "array([[25, 38, 38, 18, 30, 38, 34, 16, 29, 11],\n",
       "       [39, 22, 15, 12, 24, 31, 34, 35, 30, 32],\n",
       "       [27, 25, 34, 37, 29, 18, 31, 35, 12, 33],\n",
       "       [19, 21, 19, 17, 12, 21, 33, 31, 34, 16],\n",
       "       [26, 38, 27, 31, 18, 23, 15, 18, 24, 11],\n",
       "       [21, 37, 27, 25, 17, 11, 28, 35, 35, 28],\n",
       "       [28, 31, 27, 20, 10, 36, 31, 13, 39, 21],\n",
       "       [14, 25, 31, 14, 32, 39, 37, 14, 10, 30],\n",
       "       [38, 27, 27, 34, 16, 27, 19, 30, 25, 27],\n",
       "       [17, 29, 31, 33, 29, 23, 24, 21, 22, 17]], dtype=int32)"
      ]
     },
     "execution_count": 194,
     "metadata": {},
     "output_type": "execute_result"
    }
   ],
   "source": [
    "m = np.random.randint(10,40,(10,10))\n",
    "m"
   ]
  },
  {
   "cell_type": "code",
   "execution_count": 195,
   "id": "6890046d-7981-495e-9dd8-4d020417cf7d",
   "metadata": {},
   "outputs": [
    {
     "data": {
      "text/plain": [
       "array([0, 1, 2, 3, 4, 5])"
      ]
     },
     "execution_count": 195,
     "metadata": {},
     "output_type": "execute_result"
    }
   ],
   "source": [
    "arr"
   ]
  },
  {
   "cell_type": "code",
   "execution_count": 196,
   "id": "744ac84e-96b5-43d3-a0ac-42333f29f5e5",
   "metadata": {},
   "outputs": [
    {
     "data": {
      "text/plain": [
       "array([[0, 1, 2],\n",
       "       [3, 4, 5]])"
      ]
     },
     "execution_count": 196,
     "metadata": {},
     "output_type": "execute_result"
    }
   ],
   "source": [
    "arr.reshape(2,3)"
   ]
  },
  {
   "cell_type": "code",
   "execution_count": 198,
   "id": "3a0acd87-4ef3-466d-8c8c-418066451f1b",
   "metadata": {},
   "outputs": [
    {
     "ename": "ValueError",
     "evalue": "cannot reshape array of size 6 into shape (3,3)",
     "output_type": "error",
     "traceback": [
      "\u001b[31m---------------------------------------------------------------------------\u001b[39m",
      "\u001b[31mValueError\u001b[39m                                Traceback (most recent call last)",
      "\u001b[36mCell\u001b[39m\u001b[36m \u001b[39m\u001b[32mIn[198]\u001b[39m\u001b[32m, line 1\u001b[39m\n\u001b[32m----> \u001b[39m\u001b[32m1\u001b[39m \u001b[43marr\u001b[49m\u001b[43m.\u001b[49m\u001b[43mreshape\u001b[49m\u001b[43m(\u001b[49m\u001b[32;43m3\u001b[39;49m\u001b[43m,\u001b[49m\u001b[32;43m3\u001b[39;49m\u001b[43m)\u001b[49m\n",
      "\u001b[31mValueError\u001b[39m: cannot reshape array of size 6 into shape (3,3)"
     ]
    }
   ],
   "source": [
    "arr.reshape(3,3)"
   ]
  },
  {
   "cell_type": "code",
   "execution_count": 199,
   "id": "fc390c74-1f6c-4ac9-81df-12f30706621c",
   "metadata": {},
   "outputs": [
    {
     "data": {
      "text/plain": [
       "array([[0, 1],\n",
       "       [2, 3],\n",
       "       [4, 5]])"
      ]
     },
     "execution_count": 199,
     "metadata": {},
     "output_type": "execute_result"
    }
   ],
   "source": [
    "arr.reshape(3,2)"
   ]
  },
  {
   "cell_type": "code",
   "execution_count": 201,
   "id": "5c803e43-93fe-4bcd-9b4d-67ea5c07a0be",
   "metadata": {},
   "outputs": [
    {
     "data": {
      "text/plain": [
       "array([[0],\n",
       "       [1],\n",
       "       [2],\n",
       "       [3],\n",
       "       [4],\n",
       "       [5]])"
      ]
     },
     "execution_count": 201,
     "metadata": {},
     "output_type": "execute_result"
    }
   ],
   "source": [
    "arr.reshape(6,1)"
   ]
  },
  {
   "cell_type": "code",
   "execution_count": 203,
   "id": "cbfcb8cc-49ca-4a04-9f39-d6eea4dda5a8",
   "metadata": {},
   "outputs": [
    {
     "data": {
      "text/plain": [
       "array([[0, 1, 2, 3, 4, 5]])"
      ]
     },
     "execution_count": 203,
     "metadata": {},
     "output_type": "execute_result"
    }
   ],
   "source": [
    "arr.reshape(1,6)"
   ]
  },
  {
   "cell_type": "markdown",
   "id": "417e7cbe-402f-4644-8f25-f9a552ab5d3f",
   "metadata": {},
   "source": [
    "# Slicing in Matrix"
   ]
  },
  {
   "cell_type": "code",
   "execution_count": 204,
   "id": "11ae189c-109a-4476-b939-dd861d9c3b0f",
   "metadata": {},
   "outputs": [
    {
     "data": {
      "text/plain": [
       "array([[25, 38, 38, 18, 30, 38, 34, 16, 29, 11],\n",
       "       [39, 22, 15, 12, 24, 31, 34, 35, 30, 32],\n",
       "       [27, 25, 34, 37, 29, 18, 31, 35, 12, 33],\n",
       "       [19, 21, 19, 17, 12, 21, 33, 31, 34, 16],\n",
       "       [26, 38, 27, 31, 18, 23, 15, 18, 24, 11],\n",
       "       [21, 37, 27, 25, 17, 11, 28, 35, 35, 28],\n",
       "       [28, 31, 27, 20, 10, 36, 31, 13, 39, 21],\n",
       "       [14, 25, 31, 14, 32, 39, 37, 14, 10, 30],\n",
       "       [38, 27, 27, 34, 16, 27, 19, 30, 25, 27],\n",
       "       [17, 29, 31, 33, 29, 23, 24, 21, 22, 17]], dtype=int32)"
      ]
     },
     "execution_count": 204,
     "metadata": {},
     "output_type": "execute_result"
    }
   ],
   "source": [
    "m"
   ]
  },
  {
   "cell_type": "code",
   "execution_count": 207,
   "id": "1a3d08aa-0166-4e17-9121-6967c63ec2c8",
   "metadata": {},
   "outputs": [
    {
     "data": {
      "text/plain": [
       "array([[16, 11, 15, 12],\n",
       "       [19, 16, 16, 14],\n",
       "       [13, 16, 17, 19],\n",
       "       [18, 18, 19, 10],\n",
       "       [13, 10, 13, 16]], dtype=int32)"
      ]
     },
     "execution_count": 207,
     "metadata": {},
     "output_type": "execute_result"
    }
   ],
   "source": [
    "b = np.random.randint(10,20,(5,4))\n",
    "b"
   ]
  },
  {
   "cell_type": "code",
   "execution_count": 208,
   "id": "13804dc7-b519-4da8-b07d-36cc84dce39f",
   "metadata": {},
   "outputs": [
    {
     "data": {
      "text/plain": [
       "numpy.ndarray"
      ]
     },
     "execution_count": 208,
     "metadata": {},
     "output_type": "execute_result"
    }
   ],
   "source": [
    "type(b)"
   ]
  },
  {
   "cell_type": "code",
   "execution_count": 209,
   "id": "8738e81e-37dd-4eb1-b930-6af5d5cd3132",
   "metadata": {},
   "outputs": [
    {
     "data": {
      "text/plain": [
       "array([[16, 11, 15, 12],\n",
       "       [19, 16, 16, 14],\n",
       "       [13, 16, 17, 19],\n",
       "       [18, 18, 19, 10],\n",
       "       [13, 10, 13, 16]], dtype=int32)"
      ]
     },
     "execution_count": 209,
     "metadata": {},
     "output_type": "execute_result"
    }
   ],
   "source": [
    "b[:]"
   ]
  },
  {
   "cell_type": "code",
   "execution_count": 210,
   "id": "1c662293-28ee-4250-9ce6-2ced88ff5603",
   "metadata": {},
   "outputs": [
    {
     "data": {
      "text/plain": [
       "array([[19, 16, 16, 14],\n",
       "       [13, 16, 17, 19],\n",
       "       [18, 18, 19, 10]], dtype=int32)"
      ]
     },
     "execution_count": 210,
     "metadata": {},
     "output_type": "execute_result"
    }
   ],
   "source": [
    "b[1:4]"
   ]
  },
  {
   "cell_type": "code",
   "execution_count": 211,
   "id": "90db4fb2-16fb-4094-b3e7-094bcf1a6807",
   "metadata": {},
   "outputs": [
    {
     "data": {
      "text/plain": [
       "array([], shape=(0, 4), dtype=int32)"
      ]
     },
     "execution_count": 211,
     "metadata": {},
     "output_type": "execute_result"
    }
   ],
   "source": [
    "b[0:0]"
   ]
  },
  {
   "cell_type": "code",
   "execution_count": 212,
   "id": "a154e349-6dd7-40ca-85bb-b9437477ed17",
   "metadata": {},
   "outputs": [
    {
     "data": {
      "text/plain": [
       "array([], shape=(0, 4), dtype=int32)"
      ]
     },
     "execution_count": 212,
     "metadata": {},
     "output_type": "execute_result"
    }
   ],
   "source": [
    "b[1:1]"
   ]
  },
  {
   "cell_type": "code",
   "execution_count": 213,
   "id": "00bf98bc-efe8-4790-998b-6a158f640976",
   "metadata": {},
   "outputs": [
    {
     "data": {
      "text/plain": [
       "array([], shape=(0, 4), dtype=int32)"
      ]
     },
     "execution_count": 213,
     "metadata": {},
     "output_type": "execute_result"
    }
   ],
   "source": [
    "b[-1:1]"
   ]
  },
  {
   "cell_type": "code",
   "execution_count": 214,
   "id": "96b09521-7585-44d4-862e-1cec2994e0ea",
   "metadata": {},
   "outputs": [
    {
     "data": {
      "text/plain": [
       "array([[19, 16, 16, 14],\n",
       "       [13, 16, 17, 19]], dtype=int32)"
      ]
     },
     "execution_count": 214,
     "metadata": {},
     "output_type": "execute_result"
    }
   ],
   "source": [
    "b[-4:-2]"
   ]
  },
  {
   "cell_type": "code",
   "execution_count": 215,
   "id": "a83f42e9-aae1-4ef7-82a3-23d0c49e65e3",
   "metadata": {},
   "outputs": [
    {
     "data": {
      "text/plain": [
       "array([[16, 11, 15, 12],\n",
       "       [19, 16, 16, 14],\n",
       "       [13, 16, 17, 19],\n",
       "       [18, 18, 19, 10],\n",
       "       [13, 10, 13, 16]], dtype=int32)"
      ]
     },
     "execution_count": 215,
     "metadata": {},
     "output_type": "execute_result"
    }
   ],
   "source": [
    "b"
   ]
  },
  {
   "cell_type": "code",
   "execution_count": 216,
   "id": "f9414d38-14c2-4c15-b552-3d3a9d356259",
   "metadata": {},
   "outputs": [
    {
     "data": {
      "text/plain": [
       "array([[13, 10, 13, 16]], dtype=int32)"
      ]
     },
     "execution_count": 216,
     "metadata": {},
     "output_type": "execute_result"
    }
   ],
   "source": [
    "b[-1:]"
   ]
  },
  {
   "cell_type": "code",
   "execution_count": 217,
   "id": "8575aad7-46af-459c-919c-1f7924d61da4",
   "metadata": {},
   "outputs": [
    {
     "data": {
      "text/plain": [
       "array([[16, 11, 15, 12],\n",
       "       [19, 16, 16, 14],\n",
       "       [13, 16, 17, 19],\n",
       "       [18, 18, 19, 10]], dtype=int32)"
      ]
     },
     "execution_count": 217,
     "metadata": {},
     "output_type": "execute_result"
    }
   ],
   "source": [
    "b[:-1]"
   ]
  },
  {
   "cell_type": "code",
   "execution_count": 218,
   "id": "b5fcad89-4011-4d68-b0c5-44abe4ea62d9",
   "metadata": {},
   "outputs": [
    {
     "data": {
      "text/plain": [
       "array([[16, 11, 15, 12],\n",
       "       [19, 16, 16, 14],\n",
       "       [13, 16, 17, 19],\n",
       "       [18, 18, 19, 10],\n",
       "       [13, 10, 13, 16]], dtype=int32)"
      ]
     },
     "execution_count": 218,
     "metadata": {},
     "output_type": "execute_result"
    }
   ],
   "source": [
    "b"
   ]
  },
  {
   "cell_type": "code",
   "execution_count": 219,
   "id": "16d289ac-4623-4c7f-bbd5-4c05026da090",
   "metadata": {},
   "outputs": [
    {
     "data": {
      "text/plain": [
       "array([[16, 11, 15, 12],\n",
       "       [19, 16, 16, 14],\n",
       "       [13, 16, 17, 19],\n",
       "       [18, 18, 19, 10]], dtype=int32)"
      ]
     },
     "execution_count": 219,
     "metadata": {},
     "output_type": "execute_result"
    }
   ],
   "source": [
    "b[:-1]"
   ]
  },
  {
   "cell_type": "code",
   "execution_count": 220,
   "id": "c318a600-c895-4e8b-8354-1d9b169ce057",
   "metadata": {},
   "outputs": [
    {
     "data": {
      "text/plain": [
       "array([[16, 11, 15, 12],\n",
       "       [19, 16, 16, 14],\n",
       "       [13, 16, 17, 19]], dtype=int32)"
      ]
     },
     "execution_count": 220,
     "metadata": {},
     "output_type": "execute_result"
    }
   ],
   "source": [
    "b[:-2]"
   ]
  },
  {
   "cell_type": "code",
   "execution_count": 221,
   "id": "35d42967-c3f2-4e24-9d7b-2b093d25f498",
   "metadata": {},
   "outputs": [
    {
     "data": {
      "text/plain": [
       "array([[16, 11, 15, 12],\n",
       "       [19, 16, 16, 14],\n",
       "       [13, 16, 17, 19],\n",
       "       [18, 18, 19, 10],\n",
       "       [13, 10, 13, 16]], dtype=int32)"
      ]
     },
     "execution_count": 221,
     "metadata": {},
     "output_type": "execute_result"
    }
   ],
   "source": [
    "b"
   ]
  },
  {
   "cell_type": "code",
   "execution_count": 222,
   "id": "389e6b00-5159-4be1-ae60-1721ee3f4ee0",
   "metadata": {},
   "outputs": [
    {
     "data": {
      "text/plain": [
       "array([[19, 16, 16, 14],\n",
       "       [13, 16, 17, 19]], dtype=int32)"
      ]
     },
     "execution_count": 222,
     "metadata": {},
     "output_type": "execute_result"
    }
   ],
   "source": [
    "b[1:3]"
   ]
  },
  {
   "cell_type": "code",
   "execution_count": 224,
   "id": "dee4acd7-2761-492c-98dc-884d6a53cb37",
   "metadata": {},
   "outputs": [
    {
     "name": "stdout",
     "output_type": "stream",
     "text": [
      "14\n"
     ]
    }
   ],
   "source": [
    "print(b[1,3])"
   ]
  },
  {
   "cell_type": "code",
   "execution_count": 226,
   "id": "d98946e9-8471-4834-bd37-9f82238fae2c",
   "metadata": {},
   "outputs": [
    {
     "name": "stdout",
     "output_type": "stream",
     "text": [
      "16\n"
     ]
    }
   ],
   "source": [
    "print(b[4,3])"
   ]
  },
  {
   "cell_type": "code",
   "execution_count": 227,
   "id": "ca1a0e0d-624f-447f-a677-d8367fdd38ba",
   "metadata": {},
   "outputs": [
    {
     "data": {
      "text/plain": [
       "array([[16, 11, 15, 12],\n",
       "       [19, 16, 16, 14],\n",
       "       [13, 16, 17, 19],\n",
       "       [18, 18, 19, 10],\n",
       "       [13, 10, 13, 16]], dtype=int32)"
      ]
     },
     "execution_count": 227,
     "metadata": {},
     "output_type": "execute_result"
    }
   ],
   "source": [
    "b"
   ]
  },
  {
   "cell_type": "code",
   "execution_count": 228,
   "id": "f1a414e7-28fd-45b1-a796-40f2677047b1",
   "metadata": {},
   "outputs": [
    {
     "name": "stdout",
     "output_type": "stream",
     "text": [
      "14\n"
     ]
    }
   ],
   "source": [
    "print(b[1,-1])"
   ]
  },
  {
   "cell_type": "code",
   "execution_count": 229,
   "id": "de0ec824-3738-402d-8389-5b15baeb5605",
   "metadata": {},
   "outputs": [
    {
     "name": "stdout",
     "output_type": "stream",
     "text": [
      "19\n"
     ]
    }
   ],
   "source": [
    "print(b[2,-1])"
   ]
  },
  {
   "cell_type": "markdown",
   "id": "e666f921-88e4-41c9-bb8b-17ab5d45529a",
   "metadata": {},
   "source": [
    "# Numpy Operations"
   ]
  },
  {
   "cell_type": "code",
   "execution_count": 230,
   "id": "ab79fe4f-7fbf-450a-b51f-0342fb2248d5",
   "metadata": {},
   "outputs": [
    {
     "data": {
      "text/plain": [
       "array([0, 1, 2, 3, 4, 5])"
      ]
     },
     "execution_count": 230,
     "metadata": {},
     "output_type": "execute_result"
    }
   ],
   "source": [
    "arr"
   ]
  },
  {
   "cell_type": "code",
   "execution_count": 231,
   "id": "983cfdf3-b10a-40f7-aff8-b64c89619513",
   "metadata": {},
   "outputs": [
    {
     "data": {
      "text/plain": [
       "np.int64(5)"
      ]
     },
     "execution_count": 231,
     "metadata": {},
     "output_type": "execute_result"
    }
   ],
   "source": [
    "arr.max()"
   ]
  },
  {
   "cell_type": "code",
   "execution_count": 232,
   "id": "c9f77be4-a60a-47a5-960e-f284f84a27ca",
   "metadata": {},
   "outputs": [
    {
     "data": {
      "text/plain": [
       "np.int64(0)"
      ]
     },
     "execution_count": 232,
     "metadata": {},
     "output_type": "execute_result"
    }
   ],
   "source": [
    "arr.min()"
   ]
  },
  {
   "cell_type": "code",
   "execution_count": 233,
   "id": "816305ce-78e7-4fb6-81c6-9ccde25aa6aa",
   "metadata": {},
   "outputs": [
    {
     "data": {
      "text/plain": [
       "np.float64(2.5)"
      ]
     },
     "execution_count": 233,
     "metadata": {},
     "output_type": "execute_result"
    }
   ],
   "source": [
    "from numpy import *\n",
    "arr\n",
    "median(arr)"
   ]
  },
  {
   "cell_type": "markdown",
   "id": "43186244-e4c5-48ca-93c5-a13f6979c019",
   "metadata": {},
   "source": [
    "# Indexing in Numpy"
   ]
  },
  {
   "cell_type": "code",
   "execution_count": 234,
   "id": "b149b8e9-7ef3-4885-9426-89984839815e",
   "metadata": {},
   "outputs": [
    {
     "data": {
      "text/plain": [
       "array([[25, 38, 38, 18, 30, 38, 34, 16, 29, 11],\n",
       "       [39, 22, 15, 12, 24, 31, 34, 35, 30, 32],\n",
       "       [27, 25, 34, 37, 29, 18, 31, 35, 12, 33],\n",
       "       [19, 21, 19, 17, 12, 21, 33, 31, 34, 16],\n",
       "       [26, 38, 27, 31, 18, 23, 15, 18, 24, 11],\n",
       "       [21, 37, 27, 25, 17, 11, 28, 35, 35, 28],\n",
       "       [28, 31, 27, 20, 10, 36, 31, 13, 39, 21],\n",
       "       [14, 25, 31, 14, 32, 39, 37, 14, 10, 30],\n",
       "       [38, 27, 27, 34, 16, 27, 19, 30, 25, 27],\n",
       "       [17, 29, 31, 33, 29, 23, 24, 21, 22, 17]], dtype=int32)"
      ]
     },
     "execution_count": 234,
     "metadata": {},
     "output_type": "execute_result"
    }
   ],
   "source": [
    "m"
   ]
  },
  {
   "cell_type": "code",
   "execution_count": 235,
   "id": "ac80d81b-e0bb-47bd-b0c3-72c2cefda32e",
   "metadata": {},
   "outputs": [],
   "source": [
    "row = 4\n",
    "col = 5"
   ]
  },
  {
   "cell_type": "code",
   "execution_count": 236,
   "id": "0b5f9f40-7b44-4b5c-b574-50afaf034e60",
   "metadata": {},
   "outputs": [
    {
     "data": {
      "text/plain": [
       "np.int32(23)"
      ]
     },
     "execution_count": 236,
     "metadata": {},
     "output_type": "execute_result"
    }
   ],
   "source": [
    "m[row,col]"
   ]
  },
  {
   "cell_type": "code",
   "execution_count": 241,
   "id": "ededc243-cad5-406b-a959-adab88a52a55",
   "metadata": {},
   "outputs": [
    {
     "data": {
      "text/plain": [
       "array([39, 22, 15, 12, 24, 31, 34, 35, 30, 32], dtype=int32)"
      ]
     },
     "execution_count": 241,
     "metadata": {},
     "output_type": "execute_result"
    }
   ],
   "source": [
    "m[1,:]  # To print row from the matrix"
   ]
  },
  {
   "cell_type": "code",
   "execution_count": 242,
   "id": "fb8d6bca-67d8-423d-aad3-4e2c7b6f4c70",
   "metadata": {},
   "outputs": [
    {
     "data": {
      "text/plain": [
       "array([38, 31, 18, 21, 23, 11, 36, 39, 27, 23], dtype=int32)"
      ]
     },
     "execution_count": 242,
     "metadata": {},
     "output_type": "execute_result"
    }
   ],
   "source": [
    "m[:,col] # To print column from the matrix\n"
   ]
  },
  {
   "cell_type": "code",
   "execution_count": 243,
   "id": "e13d911c-3515-4295-95f8-a1060263a70b",
   "metadata": {},
   "outputs": [
    {
     "data": {
      "text/plain": [
       "array([[25, 38, 38, 18, 30, 38, 34, 16, 29, 11],\n",
       "       [39, 22, 15, 12, 24, 31, 34, 35, 30, 32],\n",
       "       [27, 25, 34, 37, 29, 18, 31, 35, 12, 33],\n",
       "       [19, 21, 19, 17, 12, 21, 33, 31, 34, 16],\n",
       "       [26, 38, 27, 31, 18, 23, 15, 18, 24, 11],\n",
       "       [21, 37, 27, 25, 17, 11, 28, 35, 35, 28],\n",
       "       [28, 31, 27, 20, 10, 36, 31, 13, 39, 21],\n",
       "       [14, 25, 31, 14, 32, 39, 37, 14, 10, 30],\n",
       "       [38, 27, 27, 34, 16, 27, 19, 30, 25, 27],\n",
       "       [17, 29, 31, 33, 29, 23, 24, 21, 22, 17]], dtype=int32)"
      ]
     },
     "execution_count": 243,
     "metadata": {},
     "output_type": "execute_result"
    }
   ],
   "source": [
    "m"
   ]
  },
  {
   "cell_type": "code",
   "execution_count": 244,
   "id": "db40f19e-73cd-4c0a-a973-deb5aefd40db",
   "metadata": {},
   "outputs": [
    {
     "data": {
      "text/plain": [
       "array([[17, 29, 31, 33, 29, 23, 24, 21, 22, 17],\n",
       "       [38, 27, 27, 34, 16, 27, 19, 30, 25, 27],\n",
       "       [14, 25, 31, 14, 32, 39, 37, 14, 10, 30],\n",
       "       [28, 31, 27, 20, 10, 36, 31, 13, 39, 21],\n",
       "       [21, 37, 27, 25, 17, 11, 28, 35, 35, 28],\n",
       "       [26, 38, 27, 31, 18, 23, 15, 18, 24, 11],\n",
       "       [19, 21, 19, 17, 12, 21, 33, 31, 34, 16],\n",
       "       [27, 25, 34, 37, 29, 18, 31, 35, 12, 33],\n",
       "       [39, 22, 15, 12, 24, 31, 34, 35, 30, 32],\n",
       "       [25, 38, 38, 18, 30, 38, 34, 16, 29, 11]], dtype=int32)"
      ]
     },
     "execution_count": 244,
     "metadata": {},
     "output_type": "execute_result"
    }
   ],
   "source": [
    "m[::-1] # reverse the matrix"
   ]
  },
  {
   "cell_type": "code",
   "execution_count": 245,
   "id": "cdaa6215-e0c3-4736-89a9-50ee3308d002",
   "metadata": {},
   "outputs": [
    {
     "data": {
      "text/plain": [
       "array([[17, 29, 31, 33, 29, 23, 24, 21, 22, 17],\n",
       "       [14, 25, 31, 14, 32, 39, 37, 14, 10, 30],\n",
       "       [21, 37, 27, 25, 17, 11, 28, 35, 35, 28],\n",
       "       [19, 21, 19, 17, 12, 21, 33, 31, 34, 16],\n",
       "       [39, 22, 15, 12, 24, 31, 34, 35, 30, 32]], dtype=int32)"
      ]
     },
     "execution_count": 245,
     "metadata": {},
     "output_type": "execute_result"
    }
   ],
   "source": [
    "m[::-2]"
   ]
  },
  {
   "cell_type": "code",
   "execution_count": 246,
   "id": "0f942ece-dc51-4e35-98c1-a2516fef7af1",
   "metadata": {},
   "outputs": [
    {
     "data": {
      "text/plain": [
       "array([[25, 38, 38, 18, 30, 38, 34, 16, 29, 11],\n",
       "       [39, 22, 15, 12, 24, 31, 34, 35, 30, 32],\n",
       "       [27, 25, 34, 37, 29, 18, 31, 35, 12, 33],\n",
       "       [19, 21, 19, 17, 12, 21, 33, 31, 34, 16],\n",
       "       [26, 38, 27, 31, 18, 23, 15, 18, 24, 11],\n",
       "       [21, 37, 27, 25, 17, 11, 28, 35, 35, 28],\n",
       "       [28, 31, 27, 20, 10, 36, 31, 13, 39, 21],\n",
       "       [14, 25, 31, 14, 32, 39, 37, 14, 10, 30],\n",
       "       [38, 27, 27, 34, 16, 27, 19, 30, 25, 27],\n",
       "       [17, 29, 31, 33, 29, 23, 24, 21, 22, 17]], dtype=int32)"
      ]
     },
     "execution_count": 246,
     "metadata": {},
     "output_type": "execute_result"
    }
   ],
   "source": [
    "m"
   ]
  },
  {
   "cell_type": "code",
   "execution_count": 247,
   "id": "31f52397-4322-4819-bfbc-a9cd85f83e54",
   "metadata": {},
   "outputs": [
    {
     "data": {
      "text/plain": [
       "array([[34, 37],\n",
       "       [19, 17],\n",
       "       [27, 31],\n",
       "       [27, 25]], dtype=int32)"
      ]
     },
     "execution_count": 247,
     "metadata": {},
     "output_type": "execute_result"
    }
   ],
   "source": [
    "m[2:6 , 2:4]"
   ]
  },
  {
   "cell_type": "code",
   "execution_count": 248,
   "id": "99a43ac6-784f-47be-ab06-5ea3e3dc0967",
   "metadata": {},
   "outputs": [
    {
     "data": {
      "text/plain": [
       "array([[27, 25, 34, 37, 29, 18, 31, 35, 12, 33],\n",
       "       [19, 21, 19, 17, 12, 21, 33, 31, 34, 16],\n",
       "       [26, 38, 27, 31, 18, 23, 15, 18, 24, 11],\n",
       "       [21, 37, 27, 25, 17, 11, 28, 35, 35, 28]], dtype=int32)"
      ]
     },
     "execution_count": 248,
     "metadata": {},
     "output_type": "execute_result"
    }
   ],
   "source": [
    "m[2:6]"
   ]
  },
  {
   "cell_type": "code",
   "execution_count": 249,
   "id": "6eacacda-d985-46d5-89ad-5636ae2c6abf",
   "metadata": {},
   "outputs": [
    {
     "data": {
      "text/plain": [
       "array([[27, 25, 34, 37, 29, 18, 31, 35, 12, 33],\n",
       "       [19, 21, 19, 17, 12, 21, 33, 31, 34, 16]], dtype=int32)"
      ]
     },
     "execution_count": 249,
     "metadata": {},
     "output_type": "execute_result"
    }
   ],
   "source": [
    "m[2:4]"
   ]
  },
  {
   "cell_type": "code",
   "execution_count": 251,
   "id": "90a1de11-3a3d-43ef-b724-24dead7f28e6",
   "metadata": {},
   "outputs": [
    {
     "data": {
      "text/plain": [
       "array([[38, 18],\n",
       "       [15, 12],\n",
       "       [34, 37],\n",
       "       [19, 17],\n",
       "       [27, 31],\n",
       "       [27, 25],\n",
       "       [27, 20],\n",
       "       [31, 14],\n",
       "       [27, 34],\n",
       "       [31, 33]], dtype=int32)"
      ]
     },
     "execution_count": 251,
     "metadata": {},
     "output_type": "execute_result"
    }
   ],
   "source": [
    "m[:, 2:4]"
   ]
  },
  {
   "cell_type": "code",
   "execution_count": 252,
   "id": "5465f187-1c67-4ed0-9395-989fe08e0c00",
   "metadata": {},
   "outputs": [
    {
     "data": {
      "text/plain": [
       "array([[25, 38, 38, 18, 30, 38, 34, 16, 29, 11],\n",
       "       [39, 22, 15, 12, 24, 31, 34, 35, 30, 32],\n",
       "       [27, 25, 34, 37, 29, 18, 31, 35, 12, 33],\n",
       "       [19, 21, 19, 17, 12, 21, 33, 31, 34, 16],\n",
       "       [26, 38, 27, 31, 18, 23, 15, 18, 24, 11],\n",
       "       [21, 37, 27, 25, 17, 11, 28, 35, 35, 28],\n",
       "       [28, 31, 27, 20, 10, 36, 31, 13, 39, 21],\n",
       "       [14, 25, 31, 14, 32, 39, 37, 14, 10, 30],\n",
       "       [38, 27, 27, 34, 16, 27, 19, 30, 25, 27],\n",
       "       [17, 29, 31, 33, 29, 23, 24, 21, 22, 17]], dtype=int32)"
      ]
     },
     "execution_count": 252,
     "metadata": {},
     "output_type": "execute_result"
    }
   ],
   "source": [
    "m"
   ]
  },
  {
   "cell_type": "code",
   "execution_count": 253,
   "id": "1be9aedb-7cc6-41ad-acb6-d4851491fbc8",
   "metadata": {},
   "outputs": [
    {
     "data": {
      "text/plain": [
       "array([[15, 12]], dtype=int32)"
      ]
     },
     "execution_count": 253,
     "metadata": {},
     "output_type": "execute_result"
    }
   ],
   "source": [
    "m[1:2 , 2:4]"
   ]
  },
  {
   "cell_type": "code",
   "execution_count": 254,
   "id": "00ac16b4-b1ff-4ee2-bb36-2ddb11133597",
   "metadata": {},
   "outputs": [
    {
     "data": {
      "text/plain": [
       "array([[25, 38, 38, 18, 30, 38, 34, 16, 29, 11],\n",
       "       [39, 22, 15, 12, 24, 31, 34, 35, 30, 32],\n",
       "       [27, 25, 34, 37, 29, 18, 31, 35, 12, 33],\n",
       "       [19, 21, 19, 17, 12, 21, 33, 31, 34, 16],\n",
       "       [26, 38, 27, 31, 18, 23, 15, 18, 24, 11],\n",
       "       [21, 37, 27, 25, 17, 11, 28, 35, 35, 28],\n",
       "       [28, 31, 27, 20, 10, 36, 31, 13, 39, 21],\n",
       "       [14, 25, 31, 14, 32, 39, 37, 14, 10, 30],\n",
       "       [38, 27, 27, 34, 16, 27, 19, 30, 25, 27],\n",
       "       [17, 29, 31, 33, 29, 23, 24, 21, 22, 17]], dtype=int32)"
      ]
     },
     "execution_count": 254,
     "metadata": {},
     "output_type": "execute_result"
    }
   ],
   "source": [
    "m"
   ]
  },
  {
   "cell_type": "code",
   "execution_count": 255,
   "id": "320dd096-bc4a-4930-8988-03fe6b79e361",
   "metadata": {},
   "outputs": [
    {
     "data": {
      "text/plain": [
       "array([[19, 17],\n",
       "       [27, 31]], dtype=int32)"
      ]
     },
     "execution_count": 255,
     "metadata": {},
     "output_type": "execute_result"
    }
   ],
   "source": [
    "m[3:5,2:4]"
   ]
  },
  {
   "cell_type": "markdown",
   "id": "116b33df-0622-4ca0-a068-71a05877d7de",
   "metadata": {},
   "source": [
    "# Masking / Filter"
   ]
  },
  {
   "cell_type": "code",
   "execution_count": 256,
   "id": "ff35d52d-aa71-40df-83de-4462734f3f27",
   "metadata": {},
   "outputs": [
    {
     "data": {
      "text/plain": [
       "array([[25, 38, 38, 18, 30, 38, 34, 16, 29, 11],\n",
       "       [39, 22, 15, 12, 24, 31, 34, 35, 30, 32],\n",
       "       [27, 25, 34, 37, 29, 18, 31, 35, 12, 33],\n",
       "       [19, 21, 19, 17, 12, 21, 33, 31, 34, 16],\n",
       "       [26, 38, 27, 31, 18, 23, 15, 18, 24, 11],\n",
       "       [21, 37, 27, 25, 17, 11, 28, 35, 35, 28],\n",
       "       [28, 31, 27, 20, 10, 36, 31, 13, 39, 21],\n",
       "       [14, 25, 31, 14, 32, 39, 37, 14, 10, 30],\n",
       "       [38, 27, 27, 34, 16, 27, 19, 30, 25, 27],\n",
       "       [17, 29, 31, 33, 29, 23, 24, 21, 22, 17]], dtype=int32)"
      ]
     },
     "execution_count": 256,
     "metadata": {},
     "output_type": "execute_result"
    }
   ],
   "source": [
    "m"
   ]
  },
  {
   "cell_type": "code",
   "execution_count": 257,
   "id": "98e65a7a-4623-4449-9c5c-feaf75a26f96",
   "metadata": {},
   "outputs": [
    {
     "data": {
      "text/plain": [
       "array([[False, False, False, False, False, False, False, False, False,\n",
       "        False],\n",
       "       [False, False, False, False, False, False, False, False, False,\n",
       "        False],\n",
       "       [False, False, False, False, False, False, False, False, False,\n",
       "        False],\n",
       "       [False, False, False, False, False, False, False, False, False,\n",
       "        False],\n",
       "       [False, False, False, False, False, False, False, False, False,\n",
       "        False],\n",
       "       [False, False, False, False, False, False, False, False, False,\n",
       "        False],\n",
       "       [False, False, False, False, False, False, False, False, False,\n",
       "        False],\n",
       "       [False, False, False, False, False, False, False, False, False,\n",
       "        False],\n",
       "       [False, False, False, False, False, False, False, False, False,\n",
       "        False],\n",
       "       [False, False, False, False, False, False, False, False, False,\n",
       "        False]])"
      ]
     },
     "execution_count": 257,
     "metadata": {},
     "output_type": "execute_result"
    }
   ],
   "source": [
    "m>50"
   ]
  },
  {
   "cell_type": "code",
   "execution_count": 258,
   "id": "408ec10a-d49b-420c-8454-71a346520576",
   "metadata": {},
   "outputs": [
    {
     "data": {
      "text/plain": [
       "array([[  1,   2,   3,   4,   5,   6,   7,   8,   9,  10],\n",
       "       [ 11,  12,  13,  14,  15,  16,  17,  18,  19,  20],\n",
       "       [ 21,  22,  23,  24,  25,  26,  27,  28,  29,  30],\n",
       "       [ 31,  32,  33,  34,  35,  36,  37,  38,  39,  40],\n",
       "       [ 41,  42,  43,  44,  45,  46,  47,  48,  49,  50],\n",
       "       [ 51,  52,  53,  54,  55,  56,  57,  58,  59,  60],\n",
       "       [ 61,  62,  63,  64,  65,  66,  67,  68,  69,  70],\n",
       "       [ 71,  72,  73,  74,  75,  76,  77,  78,  79,  80],\n",
       "       [ 81,  82,  83,  84,  85,  86,  87,  88,  89,  90],\n",
       "       [ 91,  92,  93,  94,  95,  96,  97,  98,  99, 100]])"
      ]
     },
     "execution_count": 258,
     "metadata": {},
     "output_type": "execute_result"
    }
   ],
   "source": [
    "mat = np.arange(1,101).reshape(10,10)\n",
    "mat"
   ]
  },
  {
   "cell_type": "code",
   "execution_count": 259,
   "id": "2155ca65-96d3-4c8f-af47-471124ef6f10",
   "metadata": {},
   "outputs": [
    {
     "data": {
      "text/plain": [
       "array([[False, False, False, False, False, False, False, False, False,\n",
       "        False],\n",
       "       [False, False, False, False, False, False, False, False, False,\n",
       "        False],\n",
       "       [False, False, False, False, False, False, False, False, False,\n",
       "        False],\n",
       "       [False, False, False, False, False, False, False, False, False,\n",
       "        False],\n",
       "       [False, False, False, False, False, False, False, False, False,\n",
       "        False],\n",
       "       [ True,  True,  True,  True,  True,  True,  True,  True,  True,\n",
       "         True],\n",
       "       [ True,  True,  True,  True,  True,  True,  True,  True,  True,\n",
       "         True],\n",
       "       [ True,  True,  True,  True,  True,  True,  True,  True,  True,\n",
       "         True],\n",
       "       [ True,  True,  True,  True,  True,  True,  True,  True,  True,\n",
       "         True],\n",
       "       [ True,  True,  True,  True,  True,  True,  True,  True,  True,\n",
       "         True]])"
      ]
     },
     "execution_count": 259,
     "metadata": {},
     "output_type": "execute_result"
    }
   ],
   "source": [
    "mat > 50"
   ]
  },
  {
   "cell_type": "code",
   "execution_count": 261,
   "id": "7fc30694-a4ff-4d08-9853-f67086d58c10",
   "metadata": {},
   "outputs": [
    {
     "data": {
      "text/plain": [
       "array([ 51,  52,  53,  54,  55,  56,  57,  58,  59,  60,  61,  62,  63,\n",
       "        64,  65,  66,  67,  68,  69,  70,  71,  72,  73,  74,  75,  76,\n",
       "        77,  78,  79,  80,  81,  82,  83,  84,  85,  86,  87,  88,  89,\n",
       "        90,  91,  92,  93,  94,  95,  96,  97,  98,  99, 100])"
      ]
     },
     "execution_count": 261,
     "metadata": {},
     "output_type": "execute_result"
    }
   ],
   "source": [
    "mat[mat>50]"
   ]
  },
  {
   "cell_type": "code",
   "execution_count": 262,
   "id": "ba9447d4-e637-4173-9b82-ceef38e52137",
   "metadata": {},
   "outputs": [
    {
     "data": {
      "text/plain": [
       "array([ 50,  51,  52,  53,  54,  55,  56,  57,  58,  59,  60,  61,  62,\n",
       "        63,  64,  65,  66,  67,  68,  69,  70,  71,  72,  73,  74,  75,\n",
       "        76,  77,  78,  79,  80,  81,  82,  83,  84,  85,  86,  87,  88,\n",
       "        89,  90,  91,  92,  93,  94,  95,  96,  97,  98,  99, 100])"
      ]
     },
     "execution_count": 262,
     "metadata": {},
     "output_type": "execute_result"
    }
   ],
   "source": [
    "mat[mat>=50]"
   ]
  },
  {
   "cell_type": "code",
   "execution_count": 263,
   "id": "c1bdf154-4f34-494a-ba6a-9b4ca658de7b",
   "metadata": {},
   "outputs": [
    {
     "data": {
      "text/plain": [
       "array([50])"
      ]
     },
     "execution_count": 263,
     "metadata": {},
     "output_type": "execute_result"
    }
   ],
   "source": [
    "mat[mat==50]"
   ]
  },
  {
   "cell_type": "code",
   "execution_count": 264,
   "id": "6afb08b8-5d86-46b2-a9ae-7c4eef945c6c",
   "metadata": {},
   "outputs": [
    {
     "data": {
      "text/plain": [
       "array([ 1,  2,  3,  4,  5,  6,  7,  8,  9, 10, 11, 12, 13, 14, 15, 16, 17,\n",
       "       18, 19, 20, 21, 22, 23, 24, 25, 26, 27, 28, 29, 30, 31, 32, 33, 34,\n",
       "       35, 36, 37, 38, 39, 40, 41, 42, 43, 44, 45, 46, 47, 48, 49])"
      ]
     },
     "execution_count": 264,
     "metadata": {},
     "output_type": "execute_result"
    }
   ],
   "source": [
    "mat[mat<50]"
   ]
  },
  {
   "cell_type": "code",
   "execution_count": 265,
   "id": "c9d2df2c-e6a1-4913-8dc8-0a30c5c21d7b",
   "metadata": {},
   "outputs": [
    {
     "data": {
      "text/plain": [
       "array([ 1,  2,  3,  4,  5,  6,  7,  8,  9, 10, 11, 12, 13, 14, 15, 16, 17,\n",
       "       18, 19, 20, 21, 22, 23, 24, 25, 26, 27, 28, 29, 30, 31, 32, 33, 34,\n",
       "       35, 36, 37, 38, 39, 40, 41, 42, 43, 44, 45, 46, 47, 48, 49, 50])"
      ]
     },
     "execution_count": 265,
     "metadata": {},
     "output_type": "execute_result"
    }
   ],
   "source": [
    "mat[mat<=50]"
   ]
  },
  {
   "cell_type": "code",
   "execution_count": 266,
   "id": "3c87a46e-e2be-4a47-925a-c4af85ace4ce",
   "metadata": {},
   "outputs": [
    {
     "data": {
      "text/plain": [
       "array([  1,   2,   3,   4,   5,   6,   7,   8,   9,  10,  11,  12,  13,\n",
       "        14,  15,  16,  17,  18,  19,  20,  21,  22,  23,  24,  25,  26,\n",
       "        27,  28,  29,  30,  31,  32,  33,  34,  35,  36,  37,  38,  39,\n",
       "        40,  41,  42,  43,  44,  45,  46,  47,  48,  49,  51,  52,  53,\n",
       "        54,  55,  56,  57,  58,  59,  60,  61,  62,  63,  64,  65,  66,\n",
       "        67,  68,  69,  70,  71,  72,  73,  74,  75,  76,  77,  78,  79,\n",
       "        80,  81,  82,  83,  84,  85,  86,  87,  88,  89,  90,  91,  92,\n",
       "        93,  94,  95,  96,  97,  98,  99, 100])"
      ]
     },
     "execution_count": 266,
     "metadata": {},
     "output_type": "execute_result"
    }
   ],
   "source": [
    "mat[mat!=50]"
   ]
  },
  {
   "cell_type": "code",
   "execution_count": null,
   "id": "770b02a5-4b7b-49cc-8c39-fd50c474e1c9",
   "metadata": {},
   "outputs": [],
   "source": []
  },
  {
   "cell_type": "code",
   "execution_count": null,
   "id": "518cff3a-d09e-4a43-b622-f64205a83f42",
   "metadata": {},
   "outputs": [],
   "source": []
  },
  {
   "cell_type": "code",
   "execution_count": null,
   "id": "2c47ef39-a76f-43c7-a7c0-b438fec2c4d4",
   "metadata": {},
   "outputs": [],
   "source": []
  },
  {
   "cell_type": "code",
   "execution_count": null,
   "id": "ea0e2221-92fc-4b83-a938-fa5868fcb5e5",
   "metadata": {},
   "outputs": [],
   "source": []
  },
  {
   "cell_type": "code",
   "execution_count": null,
   "id": "a9fa55d6-6034-4bbd-abae-31b3d0bd164d",
   "metadata": {},
   "outputs": [],
   "source": []
  },
  {
   "cell_type": "code",
   "execution_count": null,
   "id": "f07431ee-a5bf-4b1f-b674-865c6f6a780b",
   "metadata": {},
   "outputs": [],
   "source": []
  },
  {
   "cell_type": "code",
   "execution_count": null,
   "id": "f3a497cc-ccf7-4bed-b7ad-f37cebd270f9",
   "metadata": {},
   "outputs": [],
   "source": []
  },
  {
   "cell_type": "code",
   "execution_count": null,
   "id": "4bc6dd6f-add9-45ff-83fa-2729452ab75a",
   "metadata": {},
   "outputs": [],
   "source": []
  },
  {
   "cell_type": "code",
   "execution_count": null,
   "id": "230e84da-7d0d-45d2-b70d-db83cf72ba1a",
   "metadata": {},
   "outputs": [],
   "source": []
  }
 ],
 "metadata": {
  "kernelspec": {
   "display_name": "Python 3 (ipykernel)",
   "language": "python",
   "name": "python3"
  },
  "language_info": {
   "codemirror_mode": {
    "name": "ipython",
    "version": 3
   },
   "file_extension": ".py",
   "mimetype": "text/x-python",
   "name": "python",
   "nbconvert_exporter": "python",
   "pygments_lexer": "ipython3",
   "version": "3.13.5"
  }
 },
 "nbformat": 4,
 "nbformat_minor": 5
}
